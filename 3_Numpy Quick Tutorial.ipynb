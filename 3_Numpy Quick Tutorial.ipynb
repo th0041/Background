{
 "cells": [
  {
   "cell_type": "markdown",
   "id": "746c50e3",
   "metadata": {},
   "source": [
    "# AI 教材補充單元 - Numpy Quick Tutorial \n",
    "- 2022 機器學習 Summer Session 教材 (師培中心)<br>\n",
    "- @ 台南應用科技大學 資管系 杜主民"
   ]
  },
  {
   "cell_type": "markdown",
   "id": "3f160a19",
   "metadata": {},
   "source": [
    "## 什麼是 Numpy?\n",
    "- NumPy，全名為 Numerical Python。\n",
    "- Numpy 是 Python 家族語言在數據分析及科學計算上最重要的一個套件。\n",
    "- Numpy 創建一種稱為 **ndarray** 的型別，彌補了 Python 原生 list 所缺乏的運算效率。\n",
    "- 一個 ndarray 中僅能儲存單一種型別。\n",
    "- 在數據處理的領域，記得**多用 array，少用 for 迴圈**。"
   ]
  },
  {
   "cell_type": "markdown",
   "id": "a4f6e8b1",
   "metadata": {},
   "source": [
    "## 載入 Numpy 套件"
   ]
  },
  {
   "cell_type": "code",
   "execution_count": 1,
   "id": "44d30132",
   "metadata": {},
   "outputs": [],
   "source": [
    "import numpy as np # np 是別名 (alias)"
   ]
  },
  {
   "cell_type": "markdown",
   "id": "c2d925c1",
   "metadata": {},
   "source": [
    "## 建立 Numpy 物件"
   ]
  },
  {
   "cell_type": "code",
   "execution_count": 2,
   "id": "842b6ab0",
   "metadata": {},
   "outputs": [
    {
     "name": "stdout",
     "output_type": "stream",
     "text": [
      "a1= [1 2 3]\n"
     ]
    }
   ],
   "source": [
    "# 建立一個 1 維整數 Numpy 物件\n",
    "a1 = np.array([1, 2, 3])\n",
    "print('a1=', a1)"
   ]
  },
  {
   "cell_type": "code",
   "execution_count": 3,
   "id": "0155dfae",
   "metadata": {},
   "outputs": [
    {
     "name": "stdout",
     "output_type": "stream",
     "text": [
      "a2= [1.1 2.2 3.3]\n"
     ]
    }
   ],
   "source": [
    "# 建立一個 1 維浮點數 Numpy 物件\n",
    "a2 = np.array([1.1, 2.2, 3.3])\n",
    "print('a2=', a2)"
   ]
  },
  {
   "cell_type": "code",
   "execution_count": 4,
   "id": "5e9a74df",
   "metadata": {},
   "outputs": [
    {
     "name": "stdout",
     "output_type": "stream",
     "text": [
      "a3= [1.  2.2 3. ]\n"
     ]
    }
   ],
   "source": [
    "# 建立一個 1 維整數混搭浮點數 Numpy 物件? \n",
    "a3 = np.array([1, 2.2, 3])\n",
    "print('a3=', a3)"
   ]
  },
  {
   "cell_type": "code",
   "execution_count": 5,
   "id": "9e459201",
   "metadata": {},
   "outputs": [
    {
     "name": "stdout",
     "output_type": "stream",
     "text": [
      "b1=\n",
      " [[3 2 1]\n",
      " [6 5 4]]\n"
     ]
    }
   ],
   "source": [
    "# 建立一個 2 維整數 Numpy 物件\n",
    "b1 = np.array([(3, 2, 1), (6, 5, 4)])\n",
    "print('b1=\\n', b1)"
   ]
  },
  {
   "cell_type": "markdown",
   "id": "f930887c",
   "metadata": {},
   "source": [
    "## Numpy 為什麼較有效率?\n",
    "- 先來看一個例子: 公里轉換成英里的範例"
   ]
  },
  {
   "cell_type": "markdown",
   "id": "fa3b1695",
   "metadata": {},
   "source": [
    "- 想像 dist_in_km:  [3, 5, 10, 21.1, 42.195] 是 5 筆以公里度量的距離串列資料\n",
    "- 如果你想要將 dist_in_km 轉換為英制的 mile，你該如何做?\n",
    "- PS : 1 公里等於 0.62137英里"
   ]
  },
  {
   "cell_type": "code",
   "execution_count": null,
   "id": "c0b6b7b3",
   "metadata": {},
   "outputs": [],
   "source": []
  },
  {
   "cell_type": "code",
   "execution_count": 5,
   "id": "06e2466c",
   "metadata": {},
   "outputs": [
    {
     "name": "stdout",
     "output_type": "stream",
     "text": [
      "轉換後的英里:  [4.828041263659333, 8.046735439432222, 16.093470878864444, 33.95722355440398, 67.90640037336853]\n"
     ]
    }
   ],
   "source": [
    "# 1) 使用 for loop 方法\n",
    "dist_in_km = [3, 5, 10, 21.1, 42.195]\n",
    "dist_in_mile = []\n",
    "for d in dist_in_km:\n",
    "  dist_in_mile.append(d / 0.62137)\n",
    "\n",
    "print('轉換後的英里: ', dist_in_mile)"
   ]
  },
  {
   "cell_type": "code",
   "execution_count": 6,
   "id": "ec1bc9e4",
   "metadata": {},
   "outputs": [
    {
     "name": "stdout",
     "output_type": "stream",
     "text": [
      "轉換後的英里:  [4.828041263659333, 8.046735439432222, 16.093470878864444, 33.95722355440398, 67.90640037336853]\n"
     ]
    }
   ],
   "source": [
    "# 2) list comprehension 方法\n",
    "dist_in_km = [3, 5, 10, 21.1, 42.195]\n",
    "dist_in_mile = [d / 0.62137 for d in dist_in_km]\n",
    "\n",
    "print('轉換後的英里: ', dist_in_mile)"
   ]
  },
  {
   "cell_type": "code",
   "execution_count": 7,
   "id": "2ff84726",
   "metadata": {},
   "outputs": [],
   "source": [
    "# 3) 利用函數轉換公里成為英里\n",
    "def mileConvert(kilometers):\n",
    "    dist_in_mile = []\n",
    "    for k in kilometers:\n",
    "        m = k / 0.62137\n",
    "        dist_in_mile.append(m)\n",
    "    return dist_in_mile"
   ]
  },
  {
   "cell_type": "code",
   "execution_count": 8,
   "id": "5429e64b",
   "metadata": {},
   "outputs": [
    {
     "name": "stdout",
     "output_type": "stream",
     "text": [
      "轉換後的英里:  [4.828041263659333, 8.046735439432222, 16.093470878864444, 33.95722355440398, 67.90640037336853]\n"
     ]
    }
   ],
   "source": [
    "# 呼叫 mileConvert 函數\n",
    "dist_in_km = [3, 5, 10, 21.1, 42.195]\n",
    "dist_in_mile = mileConvert(dist_in_km)\n",
    "\n",
    "print('轉換後的英里: ', dist_in_mile)"
   ]
  },
  {
   "cell_type": "code",
   "execution_count": 9,
   "id": "d66ab7a5",
   "metadata": {},
   "outputs": [
    {
     "name": "stdout",
     "output_type": "stream",
     "text": [
      "轉換後的英里: [4.828041263659333, 8.046735439432222, 16.093470878864444, 33.95722355440398, 67.90640037336853]\n"
     ]
    }
   ],
   "source": [
    "# 4) 使用 map 搭配 lambda 函數\n",
    "dist_in_km = [3, 5, 10, 21.1, 42.195]\n",
    "dist_in_mile = map(lambda x: x / 0.62137, dist_in_km)\n",
    "dist_in_mile = list(dist_in_mile)\n",
    "\n",
    "print('轉換後的英里:',dist_in_mile)"
   ]
  },
  {
   "cell_type": "markdown",
   "id": "1a6f8dc3",
   "metadata": {},
   "source": [
    "- 前述的做法都是採用**純量 (scalar)**的計算方法。\n",
    "- 在資料科學的計算中，以純量作為運算單位還是略嫌有些麻煩。\n",
    "- Python 的 NumPy 套件以較有效率的方式解決問題。"
   ]
  },
  {
   "cell_type": "code",
   "execution_count": 10,
   "id": "5f62066a",
   "metadata": {},
   "outputs": [
    {
     "name": "stdout",
     "output_type": "stream",
     "text": [
      "轉換後的英里:  [ 4.82804126  8.04673544 16.09347088 33.95722355 67.90640037]\n"
     ]
    }
   ],
   "source": [
    "dist_in_km = [3, 5, 10, 21.1, 42.195]\n",
    "\n",
    "# 將 dist_in_km 的 list 型態轉換為 Numpy 的  array\n",
    "dist_in_km = np.array(dist_in_km)\n",
    "\n",
    "# 直接計算 dist_in_km 的所有元素後轉換\n",
    "dist_in_mile = dist_in_km / 0.62137  \n",
    "\n",
    "print('轉換後的英里: ', dist_in_mile)"
   ]
  },
  {
   "cell_type": "code",
   "execution_count": 12,
   "id": "2c45f767",
   "metadata": {},
   "outputs": [
    {
     "name": "stdout",
     "output_type": "stream",
     "text": [
      "轉換前 dist_in_km 的型態 <class 'list'>\n",
      "轉換後 dist_in_km 的型態 <class 'numpy.ndarray'>\n"
     ]
    }
   ],
   "source": [
    "# 檢視兩者的資料型態\n",
    "dist_in_km = [3, 5, 10, 21.1, 42.195]\n",
    "print('轉換前 dist_in_km 的型態', type(dist_in_km))\n",
    "\n",
    "dist_in_km = np.array(dist_in_km)\n",
    "print('轉換後 dist_in_km 的型態', type(dist_in_km))"
   ]
  },
  {
   "cell_type": "markdown",
   "id": "7139d43b",
   "metadata": {},
   "source": [
    "## 練習題一: 攝氏和華氏溫度轉換\n",
    "\n",
    "- 如果有一筆串列資料 celsius=[21, 15, 2, 4, 35, 0] ，有 6 筆攝氏溫度資料，如果你想要將 celsius 轉換為華氏溫度，你該如何做?\n",
    "- 請先用上述四種方法試試看\n",
    "    - 1.使用 for loop 方法\n",
    "    - 2.list comprehension 方法\n",
    "    - 3.利用自建函數轉換\n",
    "    - 4.用 map 搭配 lambda 函數\n",
    "- 使用 Numpy 直接計算\n",
    "\n",
    "#### 溫度轉換公式: 華氏 = (攝氏 * 9) / 5 + 32 ####"
   ]
  },
  {
   "cell_type": "code",
   "execution_count": 13,
   "id": "c5f02a70",
   "metadata": {},
   "outputs": [
    {
     "data": {
      "text/plain": [
       "array([69.8, 59. , 35.6, 39.2, 95. , 32. ])"
      ]
     },
     "execution_count": 13,
     "metadata": {},
     "output_type": "execute_result"
    }
   ],
   "source": [
    "celsius = np.array([21, 15, 2, 4, 35, 0])\n",
    "fahrenheit = (celsius * 9)/5 + 32\n",
    "fahrenheit"
   ]
  },
  {
   "cell_type": "markdown",
   "id": "890007f0",
   "metadata": {},
   "source": [
    "<hr style='border-color:brown; border-width:3px'>"
   ]
  },
  {
   "cell_type": "markdown",
   "id": "3b86ba40",
   "metadata": {},
   "source": [
    "## 一些經常用的 Numpy 語法"
   ]
  },
  {
   "cell_type": "markdown",
   "id": "37f3b869",
   "metadata": {},
   "source": [
    "### 1. Numpy 的 arange \n",
    "- 語法: arange(start, stop, by)\n",
    "- 與 range() 函數用法相同，只是產出的 iterable 型別為 ndarray 而非原生 list。\n",
    "- 參數的使用慣例也與 range() 函數相同，start 包含 (inclusive)，但不包含 stop (exclusive)。"
   ]
  },
  {
   "cell_type": "code",
   "execution_count": 14,
   "id": "6d92dad6",
   "metadata": {},
   "outputs": [
    {
     "name": "stdout",
     "output_type": "stream",
     "text": [
      "type of tmp: <class 'numpy.ndarray'>\n",
      "[1, 2, 3, 4, 5, 6, 7, 8, 9]\n"
     ]
    }
   ],
   "source": [
    "ndr1 = np.arange(1, 10, 1)\n",
    "print('type of tmp:', type(ndr1))\n",
    "print(list(ndr1))"
   ]
  },
  {
   "cell_type": "markdown",
   "id": "866581da",
   "metadata": {},
   "source": [
    "### 2. Numpy 的 linspace\n",
    "- 語法: linspace(start, stop, num, dtype)\n",
    "- 在介於 start（inclusive）與 stop（inclusive）之間產生長度為 num 的 ndarray。\n",
    "- 等距間隔故預設的型別設為浮點數。"
   ]
  },
  {
   "cell_type": "code",
   "execution_count": 15,
   "id": "b5c15811",
   "metadata": {},
   "outputs": [
    {
     "name": "stdout",
     "output_type": "stream",
     "text": [
      "[ 1.  2.  3.  4.  5.  6.  7.  8.  9. 10.]\n",
      "[1.         1.44444444 1.88888889 2.33333333 2.77777778 3.22222222\n",
      " 3.66666667 4.11111111 4.55555556 5.        ]\n"
     ]
    }
   ],
   "source": [
    "s1 = np.linspace(1, 10, 10)\n",
    "print(s1)\n",
    "s2 = np.linspace(1, 5, 10)\n",
    "print(s2)"
   ]
  },
  {
   "cell_type": "markdown",
   "id": "5048f79d",
   "metadata": {},
   "source": [
    "### 3. Numpy 的 random.randint()"
   ]
  },
  {
   "cell_type": "code",
   "execution_count": 16,
   "id": "9d8352ec",
   "metadata": {},
   "outputs": [
    {
     "name": "stdout",
     "output_type": "stream",
     "text": [
      "npx1: [5 5 7 1 3 2]\n",
      "npx2:\n",
      " [[ 2  2  5 10]\n",
      " [ 4 10  2  7]\n",
      " [ 6  6  8 10]]\n",
      "npx3:\n",
      " [[[ 5  1  1  6  3]\n",
      "  [ 4  2  2  5  1]\n",
      "  [ 9  9  1  2 10]\n",
      "  [ 2  4  4  5  9]]\n",
      "\n",
      " [[ 5  2  6  7  7]\n",
      "  [ 1  8  7 10 10]\n",
      "  [ 1  9  4  8  5]\n",
      "  [ 2  2  6  7  2]]\n",
      "\n",
      " [[ 6  3  9  7  4]\n",
      "  [ 9  4  7  8  4]\n",
      "  [ 4 10  1  5  3]\n",
      "  [ 7  1  1  3  3]]]\n"
     ]
    }
   ],
   "source": [
    "# 建立 3 個 Numpy array，分別是 1 維, 2 維和 3 維\n",
    "npx1 = np.random.randint(1, 11, size=6)  # 1 維 array\n",
    "npx2 = np.random.randint(1, 11, size=(3,4))  # 2 維 (3 x 4) array\n",
    "npx3 = np.random.randint(1, 11, size=(3, 4, 5))  # 3 維 (3 x 4 x 5) array\n",
    "\n",
    "print('npx1:', npx1)\n",
    "print('npx2:\\n', npx2)\n",
    "print('npx3:\\n', npx3)"
   ]
  },
  {
   "cell_type": "markdown",
   "id": "52fb6504",
   "metadata": {},
   "source": [
    "### 4. Numpy 的 random.randn()\n",
    "- 常態分布亂數"
   ]
  },
  {
   "cell_type": "code",
   "execution_count": 17,
   "id": "1ad84ba3",
   "metadata": {},
   "outputs": [
    {
     "data": {
      "text/plain": [
       "array([ 1.39812726, -0.96033962,  0.93770242,  0.58362248,  0.90399955,\n",
       "        2.6866037 ,  0.31518319,  0.27611916, -0.18983273,  0.9687484 ])"
      ]
     },
     "execution_count": 17,
     "metadata": {},
     "output_type": "execute_result"
    }
   ],
   "source": [
    "nd = np.random.randn(10)\n",
    "nd"
   ]
  },
  {
   "cell_type": "markdown",
   "id": "06468c95",
   "metadata": {},
   "source": [
    "### 5. Numpy 的 random.normal()\n",
    "- 設定平均數與標準差後的常態分佈亂數"
   ]
  },
  {
   "cell_type": "code",
   "execution_count": 18,
   "id": "4702b86c",
   "metadata": {},
   "outputs": [
    {
     "name": "stdout",
     "output_type": "stream",
     "text": [
      "nd2.mean(): 5.200171061239782\n",
      "nd2.std(): 10.574980040745992\n"
     ]
    }
   ],
   "source": [
    "nd2 = np.random.normal(5, 10, 100)\n",
    "#print(nd2)\n",
    "print('nd2.mean():', nd2.mean())\n",
    "print('nd2.std():', nd2.std())"
   ]
  },
  {
   "cell_type": "markdown",
   "id": "8a63a132",
   "metadata": {},
   "source": [
    "### 6. Numpy 的常用屬性\n",
    "- **.ndim**: numpy 的維度\n",
    "- **shape**: numpy 的各維度的大小\n",
    "- **size**: numpy 的元素個數\n",
    "- **dtype**: 資料型態\n",
    "- **itemsize**: 每一個元素佔據的記憶體大小\n",
    "- **nbytes**: 總更占用的記憶體大小"
   ]
  },
  {
   "cell_type": "markdown",
   "id": "0d30494a",
   "metadata": {},
   "source": [
    "<hr style='border-color:brown; border-width:3px'>"
   ]
  },
  {
   "cell_type": "markdown",
   "id": "b6af23d0",
   "metadata": {},
   "source": [
    "## 向量、陣列與矩陣"
   ]
  },
  {
   "cell_type": "markdown",
   "id": "72f9c8e7",
   "metadata": {},
   "source": [
    "### 1. 建立向量 (Vector)\n",
    "- 使用 `np.array()` 建立向量。"
   ]
  },
  {
   "cell_type": "code",
   "execution_count": 19,
   "id": "3fe24632",
   "metadata": {},
   "outputs": [],
   "source": [
    "# 建立一維的向量\n",
    "v1 = np.array([1, 2, 3])        # 直接建立一個向量\n",
    "v2 = np.array(list([4, 5, 6]) ) # 轉換串列 (list) 成為向量\n",
    "v3 = np.array(range(7, 10))     # 轉換 range 產生的連續值成為向量\n",
    "v4 = np.arange(10, 20)          # 使用 numpy 的 arange() 方法"
   ]
  },
  {
   "cell_type": "code",
   "execution_count": 20,
   "id": "3f6b516e",
   "metadata": {},
   "outputs": [
    {
     "name": "stdout",
     "output_type": "stream",
     "text": [
      "[1 2 3]\n",
      "[4 5 6]\n",
      "[7 8 9]\n",
      "[10 11 12 13 14 15 16 17 18 19]\n"
     ]
    }
   ],
   "source": [
    "print(v1)\n",
    "print(v2)\n",
    "print(v3)\n",
    "print(v4)"
   ]
  },
  {
   "cell_type": "markdown",
   "id": "9189968d",
   "metadata": {},
   "source": [
    "### 2. 建立二維以上的陣列 (Array)\n",
    "- 使用 `np.array()` 建立二維陣列。"
   ]
  },
  {
   "cell_type": "code",
   "execution_count": 22,
   "id": "bcc9e204",
   "metadata": {},
   "outputs": [
    {
     "name": "stdout",
     "output_type": "stream",
     "text": [
      "陣列 dim2:\n",
      " [[1 3 4]\n",
      " [2 4 6]]\n",
      "型態: <class 'numpy.ndarray'>\n",
      "(2, 3)\n"
     ]
    }
   ],
   "source": [
    "# 建立一個 2 x 3 的二維陣列\n",
    "dim2 = np.array([[1,3,4], [2,4,6]])\n",
    "print('陣列 dim2:\\n', dim2)\n",
    "print('型態:', type(dim2))\n",
    "print(dim2.shape)"
   ]
  },
  {
   "cell_type": "code",
   "execution_count": 23,
   "id": "a9af8cb3",
   "metadata": {},
   "outputs": [
    {
     "name": "stdout",
     "output_type": "stream",
     "text": [
      "陣列 dim2:\n",
      " [[[61 77]\n",
      "  [57  1]\n",
      "  [17  6]]\n",
      "\n",
      " [[60 86]\n",
      "  [56 93]\n",
      "  [48 65]]]\n",
      "型態: <class 'numpy.ndarray'>\n",
      "(2, 3, 2)\n"
     ]
    }
   ],
   "source": [
    "# 建立一個 2 x 3 x 2 的三維陣列\n",
    "dim3 = np.random.randint(0, 101, size=(2, 3, 2))\n",
    "print('陣列 dim2:\\n', dim3)\n",
    "print('型態:', type(dim3))\n",
    "print(dim3.shape)"
   ]
  },
  {
   "cell_type": "markdown",
   "id": "cae241c0",
   "metadata": {},
   "source": [
    "### 3. 建立矩陣 (Matrix)\n",
    "- 方法1. 使用 `np.array()`\n",
    "- 方法2. 使用 `np.matrix()` 或 `np.mat()` 建立矩陣。\n",
    "\n",
    "PS: 目前在 Numpy 使用 matrix() 建立矩陣很方便，但未來可能會取消此功能，只能使用 array() 建立陣列後再轉換為矩陣。"
   ]
  },
  {
   "cell_type": "code",
   "execution_count": 27,
   "id": "4474d852",
   "metadata": {},
   "outputs": [
    {
     "name": "stdout",
     "output_type": "stream",
     "text": [
      "dim1: [ 2  4  6  8 10 12]\n",
      "dim2型態: <class 'numpy.ndarray'>\n",
      "dim2:\n",
      " [[ 2  4  6]\n",
      " [ 8 10 12]]\n",
      "dim2型態: <class 'numpy.matrix'>\n"
     ]
    }
   ],
   "source": [
    "# 建立一個一維向量\n",
    "dim1 = np.array([2, 4, 6, 8, 10, 12])\n",
    "print('dim1:', dim1)\n",
    "\n",
    "# reshape 轉換為 2 x 3 ndarray 陣列\n",
    "dim2 = dim1.reshape(2,3)\n",
    "print('dim2型態:', type(dim2))\n",
    "\n",
    "# 使用 np.matrix() 轉換\n",
    "dim2 = np.matrix(dim2)\n",
    "print('dim2:\\n', dim2)\n",
    "print('dim2型態:', type(dim2))"
   ]
  },
  {
   "cell_type": "markdown",
   "id": "ebb69076",
   "metadata": {},
   "source": [
    "#### 直接建立矩陣 (Matrix)"
   ]
  },
  {
   "cell_type": "code",
   "execution_count": 28,
   "id": "c37ddc9c",
   "metadata": {},
   "outputs": [
    {
     "name": "stdout",
     "output_type": "stream",
     "text": [
      "m3 矩陣:\n",
      " [[2 4 6]\n",
      " [1 3 5]]\n",
      "m4 矩陣:\n",
      " [[1 3 5]\n",
      " [2 4 6]\n",
      " [7 8 9]]\n"
     ]
    }
   ],
   "source": [
    "dim2_2 = np.matrix('2 4 6; 1 3 5')  # 建立一個 2 x 3 的矩陣\n",
    "print('m3 矩陣:\\n', dim2_2)\n",
    "\n",
    "# 使用 np.mat() 建立矩陣\n",
    "dim2_3 = np.mat('1 3 5; 2 4 6; 7 8 9')  # 建立一個 3  x 3 的矩陣\n",
    "print('m4 矩陣:\\n', dim2_3)"
   ]
  },
  {
   "cell_type": "markdown",
   "id": "c7ea9add",
   "metadata": {},
   "source": [
    "## 陣列 v.s. 矩陣\n",
    "- 陣列 (array) 陣列乘法和矩陣 (matrix)乘法方式不相同。\n",
    "- 陣列 (array) 相乘是是兩個陣列`對應相乘`。\n",
    "- 矩陣 (matrix) 預設的乘法方式是`內積(點積)`。"
   ]
  },
  {
   "cell_type": "markdown",
   "id": "1d1c6184",
   "metadata": {},
   "source": [
    "### 1. 陣列相乘 \n",
    "- 陣列相乘，預設是對應元素相乘"
   ]
  },
  {
   "cell_type": "code",
   "execution_count": 29,
   "id": "10f3c26c",
   "metadata": {},
   "outputs": [
    {
     "name": "stdout",
     "output_type": "stream",
     "text": [
      "dim1 陣列: \n",
      " [[1 2]\n",
      " [3 4]]\n",
      "dim2 陣列: \n",
      " [[1 0]\n",
      " [0 1]]\n",
      "dim1*dim2 矩陣: \n",
      " [[1 0]\n",
      " [0 4]]\n"
     ]
    }
   ],
   "source": [
    "dim1 = np.array([[1,2],[3,4]])\n",
    "dim2 = np.array([[1,0],[0,1]])\n",
    "print('dim1 陣列: \\n', dim1)\n",
    "print('dim2 陣列: \\n', dim2)\n",
    "print('dim1*dim2 矩陣: \\n', dim1*dim2)"
   ]
  },
  {
   "cell_type": "markdown",
   "id": "75d87889",
   "metadata": {},
   "source": [
    "### 2.矩陣相乘\n",
    "- 矩陣相乘，預設是**內積 (點積)**。\n",
    "- max1 矩陣大小為 r1 列數 x c1 欄位數(r1 x c1); max2 矩陣大小為 r2 列數 x c2 欄位數(r2 x c2)。\n",
    "- max1 矩陣和 max2 矩陣相乘 (max1 矩陣 $\\cdot$ max2 矩陣) 前提是 `max1 矩陣的欄位數 (c1) 必須相等與 max2 矩陣的列數 (r2)`。\n",
    "- max3 矩陣(r1 x c2) = max1 矩陣(r1 x c1) $\\cdot$ max2 矩陣(r2 x c2)，亦即 `max3 矩陣大小為 r1 列數 x c2 欄位數(r1 x c2)`。"
   ]
  },
  {
   "cell_type": "markdown",
   "id": "18368194",
   "metadata": {},
   "source": [
    "#### 矩陣的相乘 (max1 與 max2 進行內積)\n",
    "$max1 * max2 = \n",
    "\\begin{bmatrix}\n",
    "1 & 2 \\\\ 3 & 4\n",
    "\\end{bmatrix} \\times\n",
    "\\begin{bmatrix}\n",
    "1 & 0 \\\\ 0 & 1\n",
    "\\end{bmatrix} = $\n",
    "$\n",
    "\\begin{bmatrix}\n",
    "1 \\times 1 + 2 \\times 0 & 1 \\times 0 + 2 \\times 1 \\\\\n",
    "3 \\times 1 + 4 \\times 0 & 3 \\times 0 + 4 \\times 1\n",
    "\\end{bmatrix} = \n",
    "\\begin{bmatrix}\n",
    "1 & 2 \\\\ 3 & 4\n",
    "\\end{bmatrix}$"
   ]
  },
  {
   "cell_type": "markdown",
   "id": "1cc62c37",
   "metadata": {},
   "source": [
    "### 說明:\n",
    "- Numpy **matrices** are strictly 2-dimentional, while numpy **arrays (ndarrays)** are N-dimentional. Matrix objects are a subclass of ndarray, so they inherit all the attributes and methods of ndarrays.\n",
    "- The main advantage of numpy matrices is that they provide a convinent notation for $\\boxed {matrix\\,\\,multiplication}$ if **a** and **b** are matrices, then $\\boxed{a * b}$ is their matrix product."
   ]
  },
  {
   "cell_type": "markdown",
   "id": "1a380a80",
   "metadata": {},
   "source": [
    "### 3. 以陣列進行內積\n",
    "- 若要以 ndarray 陣列進行點積，使用 Numpy 的 `dot` 方法。"
   ]
  },
  {
   "cell_type": "code",
   "execution_count": 30,
   "id": "22ba26a5",
   "metadata": {},
   "outputs": [
    {
     "name": "stdout",
     "output_type": "stream",
     "text": [
      "dim1:\n",
      " [[1 2]\n",
      " [3 4]]\n",
      "dim2:\n",
      " [[1 0]\n",
      " [0 1]]\n",
      "dim1.dot(dim2):\n",
      " [[1 2]\n",
      " [3 4]]\n"
     ]
    }
   ],
   "source": [
    "# 陣列相乘 (dim1 與 dim2)\n",
    "dim1 = np.array([[1, 2], [3, 4]])\n",
    "dim2 = np.array([[1, 0], [0, 1]])  # b 是 identity matrix \n",
    "print('dim1:\\n', dim1)\n",
    "print('dim2:\\n', dim2)\n",
    "print('dim1.dot(dim2):\\n', dim1.dot(dim2))"
   ]
  },
  {
   "cell_type": "markdown",
   "id": "07a6076f",
   "metadata": {},
   "source": [
    "那麼，究竟該使用 array 或是 matrix？根據官方文件 <a href='https://docs.scipy.org/doc/numpy-1.14.0/user/numpy-for-matlab-users.html'>NumPy for Matlab users 的建議</a>，<b>使用 ndarray！</b> 因為有著以下幾個優點：<p>\n",
    "\n",
    "- 能夠表示向量、矩陣與張量。\n",
    "- 許多 NumPy 的函數輸出型別為 ndarray 而非 matrix。\n",
    "- ndarray 進行元素級別運算與線性代數運算時使用的運算符號有明顯區隔。"
   ]
  },
  {
   "cell_type": "code",
   "execution_count": null,
   "id": "af7d7280",
   "metadata": {},
   "outputs": [],
   "source": []
  }
 ],
 "metadata": {
  "kernelspec": {
   "display_name": "Python 3",
   "language": "python",
   "name": "python3"
  },
  "language_info": {
   "codemirror_mode": {
    "name": "ipython",
    "version": 3
   },
   "file_extension": ".py",
   "mimetype": "text/x-python",
   "name": "python",
   "nbconvert_exporter": "python",
   "pygments_lexer": "ipython3",
   "version": "3.8.10"
  }
 },
 "nbformat": 4,
 "nbformat_minor": 5
}
