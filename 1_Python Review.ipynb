{
 "cells": [
  {
   "cell_type": "markdown",
   "id": "55f2ee56",
   "metadata": {},
   "source": [
    "# AI 教材補充單元 - Python \n",
    "- 2022 機器學習 Summer Session 教材 (師培中心)<br>\n",
    "- @ 台南應用科技大學 資管系 杜主民"
   ]
  },
  {
   "cell_type": "markdown",
   "id": "46717438",
   "metadata": {},
   "source": [
    "## 目錄\n",
    "<a href='#一、變數'>一、變數</a><br>\n",
    "<a href='#二、資料型態'>二、資料型態</a><br>\n",
    "<a href='#三、格式化輸出'>三、格式化輸出</a><br>\n",
    "<a href='#四、運算子(Operators)'>四、運算子 (Operators)</a><br>\n",
    "<a href='#五、流程控制'>五、流程控制</a><br>\n",
    "<a href='#六、串列表達式(List-Compression)'>六、串列表達式(List Compression)</a><br>\n",
    "<a href='#七、Python-常用的資料結構'>七、Python 常用的資料結構</a><br>\n",
    "<a href='#八、函數'>八、函數</a><br>\n",
    "<a href='#九、lambda-函數'>九、lambda 函數</a><br>\n",
    "<a href='#十、例外處理(Exception-Handling)'>十、例外處理 (Exception Handling)</a><br>\n",
    "<a href='#十一、檔案的處理'>十一、檔案的處理</a><br>\n",
    "<a href='#十二、執行緒(Thread)'>十二、執行緒 (Thread)</a><br>"
   ]
  },
  {
   "cell_type": "markdown",
   "id": "87bc4106",
   "metadata": {},
   "source": [
    "# Python 基礎語法\n",
    "\n",
    "## 這門課程我們直接使用在網頁介面寫 Python 程式，使用的工具是 jupyter notebook。"
   ]
  },
  {
   "cell_type": "code",
   "execution_count": null,
   "id": "eccbec9b",
   "metadata": {},
   "outputs": [],
   "source": [
    "# 在 jupyter notebook 檢查 python 版本\n",
    "from platform import python_version\n",
    "print(\"Version: \", python_version())"
   ]
  },
  {
   "cell_type": "markdown",
   "id": "cf12e721",
   "metadata": {},
   "source": [
    "### 在一般命令下底下，可以鍵入\n",
    "`python --version` 檢查 python 版本\n",
    "### 或者在 ipython 檢視版本\n",
    "- `>>>import sys`\n",
    "- `>>>sys.version`"
   ]
  },
  {
   "cell_type": "markdown",
   "id": "9a9062d2",
   "metadata": {},
   "source": [
    "## 執行命令列的指令"
   ]
  },
  {
   "cell_type": "code",
   "execution_count": 1,
   "id": "f0cc3e28",
   "metadata": {},
   "outputs": [
    {
     "name": "stdout",
     "output_type": "stream",
     "text": [
      "Python 3.7.3\n"
     ]
    }
   ],
   "source": [
    "# 在 jupyter notebook 環境下可以加上 '!' 執行命令列的指令\n",
    "!python --version # 檢查 python 版本"
   ]
  },
  {
   "cell_type": "markdown",
   "id": "5d4a0e58",
   "metadata": {},
   "source": [
    "## 縮排 (Indentation)\n",
    "- 當程式碼使用到迴圈、if、函式等，必須以縮排 (Indentation) 的方式區隔出程式區塊，不再像是 Java/C 語言等方式以括號區隔程式碼區塊。\n",
    "- 縮排 (Indentation) 的方式可由程式設計師自行決定，例如空格或 tab。\n",
    "- 務必注意你的每一個程式檔案，縮排的方式務必一致，例如空格 3 個位置就必須固定是 3 個位置，不可有些 2 個或 4 個；若是使用 tab 鍵，就必須固定所有縮排都是 tab。"
   ]
  },
  {
   "cell_type": "code",
   "execution_count": null,
   "id": "ecce3263",
   "metadata": {},
   "outputs": [],
   "source": [
    "# Python 縮排 (Indentation)\n",
    "if 5 > 2:\n",
    "    print(\"Five is greater than two!\")"
   ]
  },
  {
   "cell_type": "markdown",
   "id": "05b4264d",
   "metadata": {},
   "source": [
    "## 列印顯示"
   ]
  },
  {
   "cell_type": "code",
   "execution_count": null,
   "id": "5ae770d0",
   "metadata": {},
   "outputs": [],
   "source": [
    "# 單純列印文字\n",
    "print(\"Hello World!\")"
   ]
  },
  {
   "cell_type": "markdown",
   "id": "b25b6c45",
   "metadata": {},
   "source": [
    "<hr style='border-color:brown; border-width:3px'>"
   ]
  },
  {
   "cell_type": "markdown",
   "id": "c039ee20",
   "metadata": {},
   "source": [
    "## 一、變數\n",
    "- python 沒有規定變數要先宣告型態\n",
    "- 變數的型態可以隨時改變\n",
    "- 建立變數語法: `變數名稱 = 變數值`\n",
    "- 刪除變數語法: `del 變數名稱`\n",
    "- 變數命名必須遵守一定規則，變數名稱避免內建保留字 <br>\n",
    "<a href='#目錄'>回目錄</a>"
   ]
  },
  {
   "cell_type": "code",
   "execution_count": null,
   "id": "b72d875d",
   "metadata": {},
   "outputs": [],
   "source": [
    "x1 = 5       # x1 是整數型態\n",
    "y1 = \"John\"  # y1 是字串型態\n",
    "print('x1:', x1)\n",
    "print('y1:', y1)"
   ]
  },
  {
   "cell_type": "markdown",
   "id": "7b0ddf3a",
   "metadata": {},
   "source": [
    "<hr style='border-color:brown; border-width:3px'>"
   ]
  },
  {
   "cell_type": "markdown",
   "id": "2ef0b2a9",
   "metadata": {},
   "source": [
    "## 二、資料型態\n",
    "<a href='#目錄'>回目錄</a>"
   ]
  },
  {
   "cell_type": "code",
   "execution_count": null,
   "id": "03b351d6",
   "metadata": {},
   "outputs": [],
   "source": [
    "# Data Types\n",
    "x1 = 5\n",
    "print('x1 type: ', type(x1)) # int type\n",
    "\n",
    "x2 = 5.0\n",
    "print('x2 type: ', type(x2)) # float type\n",
    "\n",
    "x3 = 'Hello World'\n",
    "print('x3 type: ', type(x3)) # str type\n",
    "\n",
    "x4 = ['四資三A', '四資三B', '四資四A', '四資四B']    # list type\n",
    "print('x4 type: ', type(x4))\n",
    "\n",
    "x5 = ('四資三A', '四資三B', '四資四A', '四資四B')    # tuple type\n",
    "print('x5 type: ', type(x5)) \n",
    "\n",
    "x6 = {'學校': '台南應用科技大學', '班級':['四資三A', '四資三B', '四資四A', '四資四B']}  # dict type\n",
    "print('x6 type: ', type(x6)) \n",
    "\n",
    "x7 = True\n",
    "print('x7 type: ', type(x7)) # bool type\n",
    "\n",
    "x8 = range(10)\n",
    "print('x8 type: ', type(x8)) # range type\n",
    "\n",
    "print('x6: ', x6)"
   ]
  },
  {
   "cell_type": "markdown",
   "id": "fcf39b30",
   "metadata": {},
   "source": [
    "### 字串"
   ]
  },
  {
   "cell_type": "code",
   "execution_count": 9,
   "id": "10fa28ae",
   "metadata": {},
   "outputs": [
    {
     "name": "stdout",
     "output_type": "stream",
     "text": [
      "Hello\n",
      "------------------------------\n",
      "This is a test of\n",
      "multiple line of strings.\n",
      "It shall print out as it is shown.\n",
      "------------------------------\n"
     ]
    }
   ],
   "source": [
    "# 印出 'Hello'\n",
    "print(\"Hello\")\n",
    "print('-'*30)\n",
    "\n",
    "# 指定字串給 x 變數\n",
    "x = 'Hello'\n",
    "\n",
    "# 多列的字串\n",
    "y1 = \"\"\"This is a test of\n",
    "multiple line of strings.\n",
    "It shall print out as it is shown.\"\"\"\n",
    "print(y1)\n",
    "print('-'*30)"
   ]
  },
  {
   "cell_type": "code",
   "execution_count": 10,
   "id": "ca9bd277",
   "metadata": {},
   "outputs": [
    {
     "data": {
      "text/plain": [
       "[\"I'm\", 'doing', 'to', 'Csoco', 'shopping']"
      ]
     },
     "execution_count": 10,
     "metadata": {},
     "output_type": "execute_result"
    }
   ],
   "source": [
    "# 分割字串\n",
    "x = \"I'm doing to Csoco shopping\"\n",
    "x.split()"
   ]
  },
  {
   "cell_type": "markdown",
   "id": "7b9d2d49",
   "metadata": {},
   "source": [
    "<hr style='border-color:brown; border-width:3px'>"
   ]
  },
  {
   "cell_type": "markdown",
   "id": "630d1e66",
   "metadata": {},
   "source": [
    "## 三、格式化輸出\n",
    "<a href='#目錄'>回目錄</a>\n",
    "```python\n",
    "1. 使用 format()\n",
    "2. 使用 f-string\n",
    "```"
   ]
  },
  {
   "cell_type": "code",
   "execution_count": 7,
   "id": "f64a406b",
   "metadata": {},
   "outputs": [
    {
     "name": "stdout",
     "output_type": "stream",
     "text": [
      "x1:Sally, type is:<class 'str'>\n",
      "x2:4, type is:<class 'int'>\n",
      "x3:3.14, type is:<class 'float'>\n"
     ]
    }
   ],
   "source": [
    "x1 = \"Sally\"  # x3 是字串型態\n",
    "x2 = 4        # x1 是整數型態\n",
    "x3 = 3.14159  # x2 是浮點數型態\n",
    " \n",
    "print('x1:{}, type is:{}'.format(x1, type(x1)))       # format 格式化輸出字串\n",
    "print('x2:{}, type is:{}'.format(x2, type(x2)))       # format 格式化輸出整數\n",
    "print('x3:{0:.2f}, type is:{1}'.format(x3, type(x3))) # format 格式化輸出，指定輸出位置及四捨五入"
   ]
  },
  {
   "cell_type": "code",
   "execution_count": 8,
   "id": "49eecdc7",
   "metadata": {},
   "outputs": [
    {
     "name": "stdout",
     "output_type": "stream",
     "text": [
      "x1:Sally, type is:<class 'str'>\n",
      "x2:4, type is:<class 'int'>\n",
      "x3:3.14, type is:<class 'float'>\n"
     ]
    }
   ],
   "source": [
    "print(f'x1:{x1}, type is:{type(x1)}')       # format 格式化輸出字串\n",
    "print(f'x2:{x2}, type is:{type(x2)}')       # format 格式化輸出整數\n",
    "print(f'x3:{round(x3,2)}, type is:{type(x3)}') # format 格式化輸出，指定輸出位置及四捨五入"
   ]
  },
  {
   "cell_type": "markdown",
   "id": "9d7f299b",
   "metadata": {},
   "source": [
    "<hr style='border-color:brown; border-width:3px'>"
   ]
  },
  {
   "cell_type": "markdown",
   "id": "9890c5f5",
   "metadata": {},
   "source": [
    "## 四、運算子(Operators)\n",
    "<a href='#目錄'>回目錄</a>"
   ]
  },
  {
   "cell_type": "markdown",
   "id": "f64c18ee",
   "metadata": {},
   "source": [
    "### 算數運算子 (Arithmetic Operator)"
   ]
  },
  {
   "cell_type": "code",
   "execution_count": null,
   "id": "01b7470c",
   "metadata": {},
   "outputs": [],
   "source": [
    "# Operator: +, -, *, /, % , **, //\n",
    "x = 13\n",
    "y = 2\n",
    "\n",
    "print(f'x + y= {x + y}')\n",
    "print(f'x - y= {x - y}')\n",
    "print(f'x * y= {x * y}')\n",
    "print(f'x % y= {x % y}')\n",
    "print(f'x ** 2= {x **2}')\n",
    "print(f'x // y= {x // 2}')"
   ]
  },
  {
   "cell_type": "markdown",
   "id": "d8d0e667",
   "metadata": {},
   "source": [
    "### 指示運算子 (Assignment Operator)"
   ]
  },
  {
   "cell_type": "code",
   "execution_count": null,
   "id": "8b6c2335",
   "metadata": {},
   "outputs": [],
   "source": [
    "# Operator: =, +=, -=, *=, /=, %=, **=, ...\n",
    "\n",
    "x += y  # x = x + y\n",
    "x -= y  # x = x - y\n",
    "x *= y  # x = x * y\n",
    "x /= y  # x = x / y\n",
    "x %= y  # x = x % y\n",
    "x **= y # x = x ** y"
   ]
  },
  {
   "cell_type": "markdown",
   "id": "e8d7f07c",
   "metadata": {},
   "source": [
    "### 比較運算子 Comparison Operator"
   ]
  },
  {
   "cell_type": "code",
   "execution_count": null,
   "id": "acc1227b",
   "metadata": {},
   "outputs": [],
   "source": [
    "# Operator: ==, !=, >, <, >=, <=\n",
    "\n",
    "print(x == y)\n",
    "print(x != y)\n",
    "print(x < y)\n",
    "print(x > y)\n",
    "print(x <= y)\n",
    "print(x >= y)"
   ]
  },
  {
   "cell_type": "markdown",
   "id": "b2978ac3",
   "metadata": {},
   "source": [
    "### 邏輯運算子 (Logical Operator)"
   ]
  },
  {
   "cell_type": "code",
   "execution_count": null,
   "id": "cda594d0",
   "metadata": {},
   "outputs": [],
   "source": [
    "# Operator: and, or, not\n",
    "\n",
    "print(x < 20 and y > 1)\n",
    "print(x < 20 or y > 1)\n",
    "print( not(x<20 and y > 1))"
   ]
  },
  {
   "cell_type": "markdown",
   "id": "0255598f",
   "metadata": {},
   "source": [
    "### Identity Operator"
   ]
  },
  {
   "cell_type": "code",
   "execution_count": 11,
   "id": "6da74ca0",
   "metadata": {},
   "outputs": [
    {
     "name": "stdout",
     "output_type": "stream",
     "text": [
      "..... Identity Operator .....\n",
      "z is x: True\n",
      "x is z: True\n",
      "a=100, b=100\n",
      "a is b: True\n",
      "b is a: True\n",
      "\n",
      "False\n",
      "True\n"
     ]
    }
   ],
   "source": [
    "z = x   # z and x are the same object\n",
    "print('..... Identity Operator .....')\n",
    "print('z is x:', z is x)\n",
    "print('x is z:', z is z)\n",
    "\n",
    "a = 100\n",
    "b = 100\n",
    "print('a=100, b=100')\n",
    "print('a is b:', a is b)\n",
    "print('b is a:', b is a)\n",
    "print()\n",
    "\n",
    "x = ['orange', 'banana']\n",
    "y = ['orange', 'banana']\n",
    "print(y is x)   # x and y are different objects\n",
    "print(x == y)   # x's value and y's value are the same"
   ]
  },
  {
   "cell_type": "markdown",
   "id": "2f694c24",
   "metadata": {},
   "source": [
    "### Membership Operator"
   ]
  },
  {
   "cell_type": "code",
   "execution_count": 7,
   "id": "95e4bd84",
   "metadata": {},
   "outputs": [
    {
     "name": "stdout",
     "output_type": "stream",
     "text": [
      "..... Membership Operator .....\n",
      "orange in x: True\n",
      "lemon in x: True\n",
      "mango in x: False\n",
      "lemon NOT in x: False\n"
     ]
    }
   ],
   "source": [
    "x = ['orange','lemon','apple','banana']\n",
    "print('..... Membership Operator .....')\n",
    "print('orange in x:', 'orange' in x)\n",
    "print('lemon in x:', 'lemon' in x)\n",
    "print('mango in x:', 'mango' in x)\n",
    "print('lemon NOT in x:', 'lemon' not in x)"
   ]
  },
  {
   "cell_type": "markdown",
   "id": "8c0e702d",
   "metadata": {},
   "source": [
    "<hr style='border-color:brown; border-width:3px'>"
   ]
  },
  {
   "cell_type": "markdown",
   "id": "8369c490",
   "metadata": {},
   "source": [
    "## 五、流程控制\n",
    "<a href='#目錄'>回目錄</a>"
   ]
  },
  {
   "cell_type": "markdown",
   "id": "9f502b14",
   "metadata": {},
   "source": [
    "### 條件判斷 if-else & if-elif-else"
   ]
  },
  {
   "cell_type": "code",
   "execution_count": 12,
   "id": "04fb4045",
   "metadata": {},
   "outputs": [
    {
     "name": "stdout",
     "output_type": "stream",
     "text": [
      "A != B\n"
     ]
    }
   ],
   "source": [
    "# 條件判斷 if-else\n",
    "\n",
    "A = 3\n",
    "B = 2\n",
    "\n",
    "if A == B:\n",
    "    print('A = B')\n",
    "else:\n",
    "    print('A != B')"
   ]
  },
  {
   "cell_type": "code",
   "execution_count": 13,
   "id": "a3d28d0c",
   "metadata": {},
   "outputs": [
    {
     "name": "stdout",
     "output_type": "stream",
     "text": [
      "b is greater than a\n"
     ]
    }
   ],
   "source": [
    "a = 33\n",
    "b = 200\n",
    "if b > a:\n",
    "    print(\"b is greater than a\")"
   ]
  },
  {
   "cell_type": "code",
   "execution_count": 14,
   "id": "74837dd9",
   "metadata": {},
   "outputs": [
    {
     "name": "stdout",
     "output_type": "stream",
     "text": [
      "A > B\n"
     ]
    }
   ],
   "source": [
    "# 條件判斷 if-elif-else\n",
    "\n",
    "A = 3\n",
    "B = 2\n",
    "\n",
    "if A > B:\n",
    "    print('A > B')\n",
    "elif A < B:\n",
    "    print('A < B')\n",
    "else:\n",
    "    print('A = B')"
   ]
  },
  {
   "cell_type": "code",
   "execution_count": 26,
   "id": "9b7bc912",
   "metadata": {},
   "outputs": [
    {
     "name": "stdout",
     "output_type": "stream",
     "text": [
      "20\n",
      "------------------------------\n",
      "10\n"
     ]
    }
   ],
   "source": [
    "# 簡寫法的 if... else (Short Hand if...else)\n",
    "a = 20\n",
    "b = 10\n",
    "if a > b: print(a)  # 可以直接寫在一列\n",
    "print('-'*30)\n",
    "\n",
    "print(a) if a < b else print(b)"
   ]
  },
  {
   "cell_type": "code",
   "execution_count": 27,
   "id": "45d1d459",
   "metadata": {},
   "outputs": [
    {
     "name": "stdout",
     "output_type": "stream",
     "text": [
      "a > b\n"
     ]
    }
   ],
   "source": [
    "print('a < b') if a < b else print('a > b') if a > b else print(\"==\")"
   ]
  },
  {
   "cell_type": "markdown",
   "id": "7d19b751",
   "metadata": {},
   "source": [
    "```python\n",
    "# 上述 print(a) if a < b else print(b) if a > b else print(\"==\") 等同於\n",
    "if a < b:\n",
    "    print('a < b')\n",
    "elif a > b:\n",
    "    print('a > b')\n",
    "else:\n",
    "    print('==')\n",
    "```"
   ]
  },
  {
   "cell_type": "code",
   "execution_count": 29,
   "id": "06774409",
   "metadata": {},
   "outputs": [
    {
     "name": "stdout",
     "output_type": "stream",
     "text": [
      "a > b\n"
     ]
    }
   ],
   "source": [
    "a = 20\n",
    "b = 10\n",
    "if a < b:\n",
    "    print('a < b')\n",
    "elif a > b:\n",
    "    print('a > b')\n",
    "else:\n",
    "    print('==')"
   ]
  },
  {
   "cell_type": "markdown",
   "id": "6ec9279f",
   "metadata": {},
   "source": [
    "#### 把 Python 當作計算器\n",
    "\n",
    "|四則運算符號|意義|\n",
    "|----------|---|\n",
    "|`+`|加法|\n",
    "|`-`|減法|\n",
    "|`*`|乘法|\n",
    "|`/`|除法|\n",
    "|`**`|次方|\n",
    "|`%`|回傳餘數|\n",
    "|`//`|整除|"
   ]
  },
  {
   "cell_type": "markdown",
   "id": "7a91d277",
   "metadata": {},
   "source": [
    "#### 基本判斷運算符號\n",
    "\n",
    "\n",
    "|判斷運算符號|作用|\n",
    "|--------|---|\n",
    "|`==`|是否等於|\n",
    "|`!=`|是否不等於|\n",
    "|`>`|是否大於|\n",
    "|`<`|是否小於|\n",
    "|`>=`|是否大於等於|\n",
    "|`<=`|是否小於等於|\n",
    "|`in`|是否包含於|\n",
    "|`not in`|是否不包含於|\n",
    "|`and`|判斷兩側的條件是否都為 `True`|\n",
    "|`or`|判斷兩側的條件是否至少有一側為 `True`|\n",
    "|`not`|將布林的 `True` 或 `False` 反轉|"
   ]
  },
  {
   "cell_type": "markdown",
   "id": "00b334af",
   "metadata": {},
   "source": [
    "### for 迴圈"
   ]
  },
  {
   "cell_type": "code",
   "execution_count": 30,
   "id": "aad29d59",
   "metadata": {},
   "outputs": [
    {
     "name": "stdout",
     "output_type": "stream",
     "text": [
      "T a i n a n   U n i v e r s i t y   o f   T e c h n o l o g y "
     ]
    }
   ],
   "source": [
    "# 字串就是陣列 (strings of arrys)，因此可以透過 for 迴圈一個一個取出字串的元素\n",
    "uni = 'Tainan University of Technology'\n",
    "for x in uni:\n",
    "    print(x, end=' ')"
   ]
  },
  {
   "cell_type": "code",
   "execution_count": 31,
   "id": "cb5c5bd1",
   "metadata": {},
   "outputs": [
    {
     "name": "stdout",
     "output_type": "stream",
     "text": [
      "0 1 2 3 4 5 6 7 8 9 "
     ]
    }
   ],
   "source": [
    "# range() 是一個實用的函式，用於產生數字順序\n",
    "strA = range(10) # 產生從 0 到 9 的序列\n",
    "for i in strA:\n",
    "    print(i, end=' ')"
   ]
  },
  {
   "cell_type": "code",
   "execution_count": 32,
   "id": "baa3d9dc",
   "metadata": {},
   "outputs": [
    {
     "name": "stdout",
     "output_type": "stream",
     "text": [
      "1 3 5 7 9 "
     ]
    }
   ],
   "source": [
    "# range() 產生的數字順序可以指定 '開始數字'、'結束數字'以及'跳號'\n",
    "strA = range(1,10, 2)\n",
    "for i in strA:\n",
    "    print(i, end=' ')"
   ]
  },
  {
   "cell_type": "code",
   "execution_count": null,
   "id": "afcf77d9",
   "metadata": {},
   "outputs": [],
   "source": [
    "# enumerate() 函式\n",
    "# enumerate 的原始含意是列舉的意思，在此是走訪每一個可迭代(iterable)物件的元素，且在每個元素前面加上 index\n",
    "for i, item in enumerate(uni):    # enumerate: iterator\n",
    "    print('{}: {}'.format(i, item))"
   ]
  },
  {
   "cell_type": "code",
   "execution_count": null,
   "id": "be5b34ec",
   "metadata": {},
   "outputs": [],
   "source": [
    "# for 迴圈的 'break' 敘述\n",
    "fruits = [\"apple\", \"banana\", \"raspberry\", \"cherry\"] # fruits 是一個 list 型別廖\n",
    "for x in fruits:\n",
    "    print(x)\n",
    "    if x == 'raspberry':\n",
    "        break\n",
    "print('-'*30)"
   ]
  },
  {
   "cell_type": "code",
   "execution_count": null,
   "id": "7e216565",
   "metadata": {},
   "outputs": [],
   "source": [
    "# for 迴圈的 'continue' 敘述\n",
    "fruits = [\"apple\", \"banana\", \"raspberry\", \"cherry\"]\n",
    "for x in fruits:\n",
    "    if x == 'banana':\n",
    "        continue\n",
    "    else:\n",
    "        print(x)"
   ]
  },
  {
   "cell_type": "markdown",
   "id": "09ecc597",
   "metadata": {},
   "source": [
    "### while 迴圈"
   ]
  },
  {
   "cell_type": "code",
   "execution_count": null,
   "id": "b325a9eb",
   "metadata": {},
   "outputs": [],
   "source": [
    "# 利用 while 迴圈從 1 到 10 相加\n",
    "i = 1\n",
    "sum = 0\n",
    "while i <= 10:\n",
    "    sum = sum + i\n",
    "    #sum += 1\n",
    "    i = i + 1\n",
    "print('sum: ', sum)"
   ]
  },
  {
   "cell_type": "code",
   "execution_count": null,
   "id": "6dbb1f09",
   "metadata": {},
   "outputs": [],
   "source": [
    "# 再次使用 list \n",
    "\n",
    "i = 0\n",
    "sum = 0\n",
    "aList = list(range(1, 11)) # 將 range(1, 11) 產生的數字順序轉換為 list 型態資料\n",
    "while i <= len(aList):\n",
    "    sum = sum + i\n",
    "    i = i + 1\n",
    "print('sum: ', sum)"
   ]
  },
  {
   "cell_type": "code",
   "execution_count": null,
   "id": "8eadf148",
   "metadata": {},
   "outputs": [],
   "source": [
    "i = 0\n",
    "fruits = [\"apple\", \"banana\", \"raspberry\", \"cherry\"] # fruits 是一個 list 型別廖\n",
    "while i < len(fruits):\n",
    "    print(fruits[i])\n",
    "    i = i + 1"
   ]
  },
  {
   "cell_type": "markdown",
   "id": "caec09c0",
   "metadata": {},
   "source": [
    "### zip 函式\n",
    "- zip 函式的使用情境是當有兩個串列 (list) 需要並再一起使用時，可透過 zip() 將原本不相干的串列像拉鍊一般結合在一起，再由 for 迴圈走訪每一個元素。"
   ]
  },
  {
   "cell_type": "code",
   "execution_count": null,
   "id": "2d7ca5c8",
   "metadata": {},
   "outputs": [],
   "source": [
    "# zip 結合 list1 和 list2 串列\n",
    "list1 = [1,2,3,4,5]\n",
    "list2 = ['a','b','c','d','e']\n",
    "list3 = zip(list1,list2)\n",
    "for i,j in list3:\n",
    "    print(i,j)"
   ]
  },
  {
   "cell_type": "code",
   "execution_count": null,
   "id": "635212e0",
   "metadata": {},
   "outputs": [],
   "source": [
    "# 再看一個 list 案例\n",
    "list1 = [1,2,3,4,5]\n",
    "str1 = 'abcde'\n",
    "list3 = zip(list1, str1)\n",
    "for i,j in list3:\n",
    "    print(f'[{i}]:{j}')"
   ]
  },
  {
   "cell_type": "markdown",
   "id": "c3e6dbc8",
   "metadata": {},
   "source": [
    "<hr style='border-color:brown; border-width:3px'>"
   ]
  },
  {
   "cell_type": "markdown",
   "id": "04f8e58c",
   "metadata": {},
   "source": [
    "## 六、串列表達式(List Compression)\n",
    "- Python 經常在串列裡做數值轉換，串彆表達式就是在一行的程式裡，將舊的串列內容取出，轉換後產生新的串列。\n",
    "- 語法: `[元素內容轉換 for i in 舊的串列迭代]`<br>\n",
    "<a href='#目錄'>回目錄</a>"
   ]
  },
  {
   "cell_type": "code",
   "execution_count": null,
   "id": "48864c58",
   "metadata": {},
   "outputs": [],
   "source": [
    "list1 = [1,2,3,4,5]\n",
    "[i*2 for i in list1] # 將 list1 的每個元素乘以 2 "
   ]
  },
  {
   "cell_type": "code",
   "execution_count": null,
   "id": "e22136b0",
   "metadata": {},
   "outputs": [],
   "source": [
    "str1 = 'abcde'\n",
    "[i*2 for i in str1] # 將 str1 的每個元素乘以 2"
   ]
  },
  {
   "cell_type": "code",
   "execution_count": null,
   "id": "253f029a",
   "metadata": {},
   "outputs": [],
   "source": [
    "list1 = [1,2,3,4,5]\n",
    "list2 = [15,14,13,12,11]\n",
    "[i*j for i, j in zip(list1, list2)]"
   ]
  },
  {
   "cell_type": "markdown",
   "id": "390c66a8",
   "metadata": {},
   "source": [
    "<hr style='border-color:brown; border-width:3px'>"
   ]
  },
  {
   "cell_type": "markdown",
   "id": "60214407",
   "metadata": {},
   "source": [
    "## 七、Python 常用的資料結構\n",
    "<a href='#目錄'>回目錄</a><br>\n",
    "- Python 原生資料結構\n",
    "    - list\n",
    "    - tuple\n",
    "    - dict"
   ]
  },
  {
   "cell_type": "markdown",
   "id": "96df85dd",
   "metadata": {},
   "source": [
    "### list (串列)\n",
    "\n",
    "- 最簡單說名串列的資料型態就是 - 所有東西都可以放在一起的資料型態\n",
    "- 可以容納不同的變數類型（str, int, float, bool, complex）\n",
    "- 建立時使用 `[]` 中括號，串列裡的資料用逗號區格\n",
    "- Python 的索引值從 0 開始算"
   ]
  },
  {
   "cell_type": "code",
   "execution_count": 36,
   "id": "646eee3f",
   "metadata": {},
   "outputs": [
    {
     "data": {
      "text/plain": [
       "['Chicago Bulls', 72, 10, 0.8780487804878049, True]"
      ]
     },
     "execution_count": 36,
     "metadata": {},
     "output_type": "execute_result"
    }
   ],
   "source": [
    "team_name = \"Chicago Bulls\"\n",
    "wins = 72\n",
    "losses = 10\n",
    "win_percentage = wins / (wins + losses)\n",
    "is_champion = True\n",
    "\n",
    "# 建立 list\n",
    "chicago_bulls = [team_name, wins, losses, win_percentage, is_champion]\n",
    "chicago_bulls"
   ]
  },
  {
   "cell_type": "code",
   "execution_count": 52,
   "id": "d1782f5c",
   "metadata": {},
   "outputs": [],
   "source": [
    "# 其它建立 List的方式\n",
    "aList = ['四資三A', '四資三B', '四資四A', '四資四B']\n",
    "bList = list(['四資一A', '四資一B', '四資二A', '四資二B'])\n",
    "cList = list(range(0, 100, 10))"
   ]
  },
  {
   "cell_type": "markdown",
   "id": "16d4862f",
   "metadata": {},
   "source": [
    "### 取出串列內的值及Slicing (切片)"
   ]
  },
  {
   "cell_type": "code",
   "execution_count": 38,
   "id": "087b8e24",
   "metadata": {},
   "outputs": [
    {
     "data": {
      "text/plain": [
       "0"
      ]
     },
     "execution_count": 38,
     "metadata": {},
     "output_type": "execute_result"
    }
   ],
   "source": [
    "cList[0]"
   ]
  },
  {
   "cell_type": "code",
   "execution_count": 39,
   "id": "00af31bc",
   "metadata": {},
   "outputs": [
    {
     "data": {
      "text/plain": [
       "[0, 10, 20, 30, 40]"
      ]
     },
     "execution_count": 39,
     "metadata": {},
     "output_type": "execute_result"
    }
   ],
   "source": [
    "cList[0:5]"
   ]
  },
  {
   "cell_type": "code",
   "execution_count": 42,
   "id": "3e0d300b",
   "metadata": {},
   "outputs": [
    {
     "data": {
      "text/plain": [
       "[0, 10, 20, 30, 40, 50, 60, 70, 80]"
      ]
     },
     "execution_count": 42,
     "metadata": {},
     "output_type": "execute_result"
    }
   ],
   "source": [
    "cList[:-1]"
   ]
  },
  {
   "cell_type": "code",
   "execution_count": null,
   "id": "71cb6cf9",
   "metadata": {},
   "outputs": [],
   "source": [
    "cList[::]"
   ]
  },
  {
   "cell_type": "code",
   "execution_count": null,
   "id": "2f3a93e7",
   "metadata": {},
   "outputs": [],
   "source": [
    "cList[::-1]"
   ]
  },
  {
   "cell_type": "code",
   "execution_count": null,
   "id": "d32eac8f",
   "metadata": {},
   "outputs": [],
   "source": [
    "cList[-5:-1]"
   ]
  },
  {
   "cell_type": "code",
   "execution_count": null,
   "id": "664c3139",
   "metadata": {},
   "outputs": [],
   "source": [
    "cList[::-1][0:5]"
   ]
  },
  {
   "cell_type": "markdown",
   "id": "2ee86b75",
   "metadata": {},
   "source": [
    "### 檢查串列元素是否存在"
   ]
  },
  {
   "cell_type": "code",
   "execution_count": null,
   "id": "b9db24a0",
   "metadata": {},
   "outputs": [],
   "source": [
    "if '四資四A' in aList:\n",
    "    print('Yes... it is in aList!')\n",
    "else:\n",
    "    print('No, it is not')"
   ]
  },
  {
   "cell_type": "markdown",
   "id": "1d909966",
   "metadata": {},
   "source": [
    "### 新增元素\n",
    "1. append(): 新增元素\n",
    "2. insert(): 新增元素到指定位置"
   ]
  },
  {
   "cell_type": "code",
   "execution_count": null,
   "id": "1ff8c5bf",
   "metadata": {},
   "outputs": [],
   "source": [
    "# 新增元素\n",
    "aList.append('資四F')"
   ]
  },
  {
   "cell_type": "code",
   "execution_count": null,
   "id": "bf455507",
   "metadata": {},
   "outputs": [],
   "source": [
    "# 新增元素到指定位置\n",
    "aList.insert(0, '四資一A')"
   ]
  },
  {
   "cell_type": "markdown",
   "id": "3b743c98",
   "metadata": {},
   "source": [
    "#### 移除串列元素\n",
    "1. remove():  remove the specified item\n",
    "2. pop(): remove the specified index, or the last item if index is not specified\n",
    "3. del(): remove the specified index；or it can be use to delete the entire list\n",
    "4. clear(): empty the entire list"
   ]
  },
  {
   "cell_type": "markdown",
   "id": "07be6689",
   "metadata": {},
   "source": [
    "### 串列搭配 for 迴圈"
   ]
  },
  {
   "cell_type": "code",
   "execution_count": null,
   "id": "21c8dcf2",
   "metadata": {},
   "outputs": [],
   "source": [
    "for i in bList:\n",
    "    print(i)"
   ]
  },
  {
   "cell_type": "code",
   "execution_count": null,
   "id": "9b5f0be1",
   "metadata": {},
   "outputs": [],
   "source": [
    "for i, item in enumerate(bList):\n",
    "    print(f'id[{i}]:{item}')"
   ]
  },
  {
   "cell_type": "markdown",
   "id": "b81374eb",
   "metadata": {},
   "source": [
    "### 串列拷貝 (copy)"
   ]
  },
  {
   "cell_type": "code",
   "execution_count": null,
   "id": "3fda9950",
   "metadata": {},
   "outputs": [],
   "source": [
    "aList_2 = aList.copy()\n",
    "aList_2"
   ]
  },
  {
   "cell_type": "markdown",
   "id": "3ff908ac",
   "metadata": {},
   "source": [
    "### 串列合併\n",
    "1. +\n",
    "2. append()\n",
    "3. extend()"
   ]
  },
  {
   "cell_type": "code",
   "execution_count": 49,
   "id": "4b077f96",
   "metadata": {},
   "outputs": [
    {
     "data": {
      "text/plain": [
       "['四資三A', '四資三B', '四資四A', '四資四B', '四資一A', '四資一B', '四資二A', '四資二B']"
      ]
     },
     "execution_count": 49,
     "metadata": {},
     "output_type": "execute_result"
    }
   ],
   "source": [
    "# 串列合併 - 使用 '+'\n",
    "aList + bList"
   ]
  },
  {
   "cell_type": "code",
   "execution_count": 50,
   "id": "acfb7087",
   "metadata": {},
   "outputs": [],
   "source": [
    "# 串列合併 - 使用 append()\n",
    "aList.append(bList)"
   ]
  },
  {
   "cell_type": "code",
   "execution_count": 54,
   "id": "9c43014b",
   "metadata": {},
   "outputs": [],
   "source": [
    "# 串列合併 - 使用 extend()\n",
    "aList.extend(bList)"
   ]
  },
  {
   "cell_type": "code",
   "execution_count": null,
   "id": "4b907be0",
   "metadata": {},
   "outputs": [],
   "source": [
    "aList"
   ]
  },
  {
   "cell_type": "markdown",
   "id": "d8ef9110",
   "metadata": {},
   "source": [
    "### 串列排序 (sort)\n",
    "- sort(): 使用 sort() 排序改變原有的串列內容"
   ]
  },
  {
   "cell_type": "code",
   "execution_count": 57,
   "id": "ef4f1198",
   "metadata": {},
   "outputs": [
    {
     "name": "stdout",
     "output_type": "stream",
     "text": [
      "[0, 10, 20, 30, 40, 50, 60, 70, 80, 90]\n"
     ]
    }
   ],
   "source": [
    "cList2 = cList.copy()\n",
    "cList.sort()\n",
    "print(cList)"
   ]
  },
  {
   "cell_type": "code",
   "execution_count": 58,
   "id": "1e40ac10",
   "metadata": {},
   "outputs": [
    {
     "data": {
      "text/plain": [
       "[90, 80, 70, 60, 50, 40, 30, 20, 10, 0]"
      ]
     },
     "execution_count": 58,
     "metadata": {},
     "output_type": "execute_result"
    }
   ],
   "source": [
    "sorted(cList2, reverse=True)"
   ]
  },
  {
   "cell_type": "markdown",
   "id": "17cb9cb3",
   "metadata": {},
   "source": [
    "#### 串列排序 (sorted)\n",
    "- sorted(): sorted() 排序不會改變原有的串列內容"
   ]
  },
  {
   "cell_type": "code",
   "execution_count": 59,
   "id": "c09bde28",
   "metadata": {},
   "outputs": [
    {
     "data": {
      "text/plain": [
       "[90, 80, 70, 60, 50, 40, 30, 20, 10, 0]"
      ]
     },
     "execution_count": 59,
     "metadata": {},
     "output_type": "execute_result"
    }
   ],
   "source": [
    "sorted(cList2, reverse=True) # 暫時改變順序，未更改 cList2"
   ]
  },
  {
   "cell_type": "code",
   "execution_count": 60,
   "id": "30618832",
   "metadata": {},
   "outputs": [
    {
     "data": {
      "text/plain": [
       "[0, 10, 20, 30, 40, 50, 60, 70, 80, 90]"
      ]
     },
     "execution_count": 60,
     "metadata": {},
     "output_type": "execute_result"
    }
   ],
   "source": [
    "cList2"
   ]
  },
  {
   "cell_type": "markdown",
   "id": "ddae1845",
   "metadata": {},
   "source": [
    "### 串列與文字"
   ]
  },
  {
   "cell_type": "code",
   "execution_count": 3,
   "id": "395a737a",
   "metadata": {},
   "outputs": [
    {
     "data": {
      "text/plain": [
       "['江碧鳥逾白', '山青花欲燃', '今春看又過', '何日是歸年']"
      ]
     },
     "execution_count": 3,
     "metadata": {},
     "output_type": "execute_result"
    }
   ],
   "source": [
    "word = '江碧鳥逾白，山青花欲燃，今春看又過，何日是歸年' # word 是字串\n",
    "lst = word.split('，') # 以逗號文分隔，利用 split() 將文字分割文字串\n",
    "lst"
   ]
  },
  {
   "cell_type": "code",
   "execution_count": null,
   "id": "9e63b6f3",
   "metadata": {},
   "outputs": [],
   "source": [
    "print(lst[0]) # 取出 lst 字串的第 0 個元素\n",
    "print(lst[0][0]) # 取出 lst 字串的第 0 個元素的第 0 個位置的字元"
   ]
  },
  {
   "cell_type": "code",
   "execution_count": 2,
   "id": "900c854e",
   "metadata": {},
   "outputs": [
    {
     "data": {
      "text/plain": [
       "'江碧鳥逾白--山青花欲燃--今春看又過--何日是歸年'"
      ]
     },
     "execution_count": 2,
     "metadata": {},
     "output_type": "execute_result"
    }
   ],
   "source": [
    "# 字串分解為串列(list)後，可利用 join() 重新合併\n",
    "# 合併指定連結的符號\n",
    "'--'.join(lst) # 使用 '--'符號連結串列元素"
   ]
  },
  {
   "cell_type": "code",
   "execution_count": 4,
   "id": "210629a0",
   "metadata": {},
   "outputs": [
    {
     "data": {
      "text/plain": [
       "['何日是歸年', '今春看又過', '山青花欲燃', '江碧鳥逾白']"
      ]
     },
     "execution_count": 4,
     "metadata": {},
     "output_type": "execute_result"
    }
   ],
   "source": [
    "# 將 word 的五言絕句師反轉印出\n",
    "lst[::-1]"
   ]
  },
  {
   "cell_type": "markdown",
   "id": "bfff445a",
   "metadata": {},
   "source": [
    "### 串列結合 input() 輸入\n",
    "- 使用者在命令列輸入的內容，預設會存成 list 型態"
   ]
  },
  {
   "cell_type": "markdown",
   "id": "87f24c9c",
   "metadata": {},
   "source": [
    "### Tuple (元組)\n",
    "- Tuple 可以翻譯為'元組'，但習慣上我還是稱為 Tuple\n",
    "- 跟 list 很像，但是我們**不能**新增，刪除或者更新 tuple 的元素\n",
    "- 建立時使用 `()` 小括號或者使用 `tuple()` 函數轉換既有的 list"
   ]
  },
  {
   "cell_type": "code",
   "execution_count": null,
   "id": "33909818",
   "metadata": {},
   "outputs": [],
   "source": [
    "team_name = \"Chicago Bulls\"\n",
    "wins = 72\n",
    "losses = 10\n",
    "win_percentage = wins / (wins + losses)\n",
    "is_champion = True\n",
    "\n",
    "chicago_bulls_list = [team_name, wins, losses, win_percentage, is_champion]\n",
    "chicago_bulls_tuple = (team_name, wins, losses, win_percentage, is_champion)\n",
    "# chicago_bulls_tuple = tuple(chicago_bulls_list) # 將串列 list 轉換為 tuple"
   ]
  },
  {
   "cell_type": "code",
   "execution_count": null,
   "id": "7039f254",
   "metadata": {},
   "outputs": [],
   "source": [
    "# 其它建立 List的方式\n",
    "aTuple = ('四資三A', '四資三B', '四資四A', '四資四B')\n",
    "bTuple = tuple(['四資一A', '四資一B', '四資二A', '四資二B'])\n",
    "cTuple = tuple(range(0, 100, 10))"
   ]
  },
  {
   "cell_type": "markdown",
   "id": "48b7f80e",
   "metadata": {},
   "source": [
    "### 取出 Tuple 內的值及Slicing (切片)、檢查串列元素是否存在、搭配 for 迴圈等，作法和 list 的取用都相同"
   ]
  },
  {
   "cell_type": "markdown",
   "id": "47395df4",
   "metadata": {},
   "source": [
    "#### Tuple 不能新增、刪除、更新或拷貝\n",
    "- 但是，假若真的想要改變 tuple 的元素內容，你可以 (1)將 tuple 轉換為 list；(2)改變 list；(3)再轉換回 tuple"
   ]
  },
  {
   "cell_type": "markdown",
   "id": "b9d05ad7",
   "metadata": {},
   "source": [
    "<hr style='border-color:brown; border-width:3px'>"
   ]
  },
  {
   "cell_type": "markdown",
   "id": "d1e02b75",
   "metadata": {},
   "source": [
    "### 資料字典 (Dictionary)\n",
    "\n",
    "- 資料字典是帶有鍵值（**key**）的 list\n",
    "- 建立時使用大括號 `{}`\n",
    "- 語法: `字典名稱 = {鍵1: 值1, 鍵2: 值2, ...鍵n: 值n}`"
   ]
  },
  {
   "cell_type": "code",
   "execution_count": 5,
   "id": "5a064bc9",
   "metadata": {},
   "outputs": [
    {
     "name": "stdout",
     "output_type": "stream",
     "text": [
      "{'team_name': 'Chicago Bulls', 'wins': 72, 'losses': 10, 'win_percentage': 0.8780487804878049, 'is_champion': True}\n"
     ]
    }
   ],
   "source": [
    "# 建立一個資料字典 chicago_bulls\n",
    "team_name = \"Chicago Bulls\"\n",
    "wins = 72\n",
    "losses = 10\n",
    "win_percentage = wins / (wins + losses)\n",
    "is_champion = True\n",
    "\n",
    "chicago_bulls = {\n",
    "    \"team_name\": team_name,\n",
    "    \"wins\": wins,\n",
    "    \"losses\": losses,\n",
    "    \"win_percentage\": win_percentage,\n",
    "    \"is_champion\": is_champion\n",
    "}\n",
    "print(chicago_bulls)"
   ]
  },
  {
   "cell_type": "code",
   "execution_count": 6,
   "id": "edbb5e88",
   "metadata": {},
   "outputs": [
    {
     "name": "stdout",
     "output_type": "stream",
     "text": [
      "{'brand': 'VW', 'model': 'Caddy', 'year': 2018}\n"
     ]
    }
   ],
   "source": [
    "# 建立一個資料字典 aCar\n",
    "aCar = {\n",
    "    'brand': 'VW',\n",
    "    'model': 'Caddy',\n",
    "    'year': 2018\n",
    "}\n",
    "print(aCar)"
   ]
  },
  {
   "cell_type": "markdown",
   "id": "d412dbb4",
   "metadata": {},
   "source": [
    "### 改變字典的值"
   ]
  },
  {
   "cell_type": "code",
   "execution_count": null,
   "id": "830ac22c",
   "metadata": {},
   "outputs": [],
   "source": [
    "# 改變鍵值 'year' 的值\n",
    "aCar['year'] = 2020\n",
    "print(aCar)"
   ]
  },
  {
   "cell_type": "markdown",
   "id": "5a4a6eca",
   "metadata": {},
   "source": [
    "#### Dictionary 搭配 for 迴圈"
   ]
  },
  {
   "cell_type": "code",
   "execution_count": null,
   "id": "cab1ce7c",
   "metadata": {},
   "outputs": [],
   "source": [
    "# 走訪每一個 chicago_bulls 字典的鍵\n",
    "for item in chicago_bulls:\n",
    "    print(item)"
   ]
  },
  {
   "cell_type": "code",
   "execution_count": null,
   "id": "4192af82",
   "metadata": {},
   "outputs": [],
   "source": [
    "# 走訪每一個 chicago_bulls 字典的值\n",
    "for value in chicago_bulls.values():\n",
    "    print(value)"
   ]
  },
  {
   "cell_type": "code",
   "execution_count": null,
   "id": "3ceac6b9",
   "metadata": {},
   "outputs": [],
   "source": [
    "# 走訪每一個 chicago_bulls 字典的鍵和對應的值\n",
    "for key, value in chicago_bulls.items():\n",
    "    print(f'{key}: {value}')"
   ]
  },
  {
   "cell_type": "code",
   "execution_count": null,
   "id": "b9ba7b62",
   "metadata": {},
   "outputs": [],
   "source": [
    "# 檢查鍵是否存在\n",
    "if 'is_champion' in chicago_bulls:\n",
    "    print('Yes, is_champion key is in the dictionary')"
   ]
  },
  {
   "cell_type": "code",
   "execution_count": null,
   "id": "2cada243",
   "metadata": {},
   "outputs": [],
   "source": [
    "# 新增字典內容項目\n",
    "aCar['price'] = 1200000\n",
    "print(aCar)"
   ]
  },
  {
   "cell_type": "markdown",
   "id": "df610629",
   "metadata": {},
   "source": [
    "#### 移除資料字典元素\n",
    "- 1. pop(): removes an item with the specified key name\n",
    "- 2. popitem(): removes the last inserted item\n",
    "- 3. del: removes the item with the specified key name\n",
    "- 4. clear(): empties the dictionary"
   ]
  },
  {
   "cell_type": "code",
   "execution_count": null,
   "id": "12fc0c3b",
   "metadata": {},
   "outputs": [],
   "source": [
    "# 移除鍵值是 'is_champion' 的元素\n",
    "chicago_bulls.pop('is_champion')"
   ]
  },
  {
   "cell_type": "code",
   "execution_count": null,
   "id": "15e632e3",
   "metadata": {},
   "outputs": [],
   "source": [
    "# 移除鍵值是 'wins' 的元素\n",
    "del chicago_bulls['wins']\n",
    "chicago_bulls"
   ]
  },
  {
   "cell_type": "code",
   "execution_count": null,
   "id": "33c630cb",
   "metadata": {},
   "outputs": [],
   "source": [
    "# 移除資料字典的最後一個元素\n",
    "chicago_bulls.popitem()"
   ]
  },
  {
   "cell_type": "code",
   "execution_count": null,
   "id": "cfab4763",
   "metadata": {},
   "outputs": [],
   "source": [
    "# 清空 chicago_bulls 資料字典\n",
    "chicago_bulls.clear()"
   ]
  },
  {
   "cell_type": "markdown",
   "id": "92bd312b",
   "metadata": {},
   "source": [
    "#### 幾個常用的資料字典方法\n",
    "- 1.items()\n",
    "- 2.keys()\n",
    "- 3.values()"
   ]
  },
  {
   "cell_type": "code",
   "execution_count": null,
   "id": "359e235e",
   "metadata": {},
   "outputs": [],
   "source": [
    "print(aCar.items())\n",
    "print(aCar.keys())\n",
    "print(aCar.values())"
   ]
  },
  {
   "cell_type": "markdown",
   "id": "f852f442",
   "metadata": {},
   "source": [
    "<hr style='border-color:brown; border-width:3px'>"
   ]
  },
  {
   "cell_type": "markdown",
   "id": "a7591940",
   "metadata": {},
   "source": [
    "## 八、函數\n",
    "- 函數可分為**內建函數**和**自建函數**兩類型。\n",
    "- 所謂**內建函數**是指已經建立好供使用者直接可以使用的函數，**自建函數**是使用者自己建立的函數。\n",
    "- 使用者的**自建函數**通常是為了滿足重複呼叫使用的目的。<br>\n",
    "<a href='#目錄'>回目錄</a>"
   ]
  },
  {
   "cell_type": "markdown",
   "id": "721869d5",
   "metadata": {},
   "source": [
    "### 內建函數"
   ]
  },
  {
   "cell_type": "code",
   "execution_count": null,
   "id": "27c66d06",
   "metadata": {},
   "outputs": [],
   "source": [
    "distances = [1.6, 3, 5, 10, 21, 42.195]\n",
    "\n",
    "# 應用函數\n",
    "print(max(distances)) # 最長的距離\n",
    "print(min(distances)) # 最短的距離\n",
    "print(len(distances)) # 總共有幾個距離\n",
    "print(sorted(distances, reverse = True)) # 遞減排序"
   ]
  },
  {
   "cell_type": "markdown",
   "id": "2e24b908",
   "metadata": {},
   "source": [
    "### 自訂函數\n",
    "\n",
    "- 自訂函數的結構\n",
    "\n",
    "```\n",
    "def function_name(輸入1, 輸入2, 參數1, 參數2, ...):\n",
    "    '''\n",
    "    Docstrings\n",
    "    '''\n",
    "    # 做些什麼事\n",
    "    return 輸出\n",
    "```"
   ]
  },
  {
   "cell_type": "markdown",
   "id": "be8fd428",
   "metadata": {},
   "source": [
    "### 自訂函數範例"
   ]
  },
  {
   "cell_type": "code",
   "execution_count": null,
   "id": "e158b8d1",
   "metadata": {},
   "outputs": [],
   "source": [
    "# 定義一個函數名稱 my_function1\n",
    "# my_function1 的工作只是印出字串 \"Hello from a function!\"\n",
    "\n",
    "def my_function1():\n",
    "    print(\"Hello from a function!\")"
   ]
  },
  {
   "cell_type": "code",
   "execution_count": null,
   "id": "66a84049",
   "metadata": {},
   "outputs": [],
   "source": [
    "# 呼叫 my_function1\n",
    "my_function1()"
   ]
  },
  {
   "cell_type": "code",
   "execution_count": null,
   "id": "ecd1e096",
   "metadata": {},
   "outputs": [],
   "source": [
    "# 定義一個函數名稱 my_function2\n",
    "# my_function2 有一個參數 name，函數的工作就是印出 name 參數\n",
    "\n",
    "def my_function2(name):\n",
    "    print(name)"
   ]
  },
  {
   "cell_type": "code",
   "execution_count": null,
   "id": "a970fa65",
   "metadata": {},
   "outputs": [],
   "source": [
    "# 呼叫 my_functio2()\n",
    "my_function2('Jack')"
   ]
  },
  {
   "cell_type": "code",
   "execution_count": null,
   "id": "ecef13c3",
   "metadata": {},
   "outputs": [],
   "source": [
    "# 呼叫函數 my_function2，傳入 aList 參數\n",
    "aList = ['Apple', 'banana', 'orange']\n",
    "for item in aList:\n",
    "    my_function2(item)"
   ]
  },
  {
   "cell_type": "markdown",
   "id": "d3e6dc8c",
   "metadata": {},
   "source": [
    "### 函數的參數有兩種使用情況\n",
    "- 1.fixed number of arguments (固定參數數目)\n",
    "- 2.arbitrary number of arguments (不固定參數數目)"
   ]
  },
  {
   "cell_type": "markdown",
   "id": "c9c8557e",
   "metadata": {},
   "source": [
    "#### 固定參數數目"
   ]
  },
  {
   "cell_type": "code",
   "execution_count": 12,
   "id": "3dab718a",
   "metadata": {},
   "outputs": [],
   "source": [
    "# 定義一個函數名稱 my_function3()，有 2 個參數\n",
    "def my_function3(num1, num2):\n",
    "    return num1 + num2"
   ]
  },
  {
   "cell_type": "code",
   "execution_count": 15,
   "id": "7c6c547d",
   "metadata": {},
   "outputs": [
    {
     "name": "stdout",
     "output_type": "stream",
     "text": [
      "my_function3(x1, x2)= 30\n"
     ]
    }
   ],
   "source": [
    "# 呼叫函數 my_function3，傳入 2 個參數\n",
    "x1 = 10\n",
    "x2 = 20\n",
    "print('my_function3(x1, x2)=', my_function3(x1, x2))"
   ]
  },
  {
   "cell_type": "markdown",
   "id": "1c3c337f",
   "metadata": {},
   "source": [
    "#### 不固定參數數目"
   ]
  },
  {
   "cell_type": "code",
   "execution_count": 16,
   "id": "f693eecc",
   "metadata": {},
   "outputs": [],
   "source": [
    "def my_function4(*args):\n",
    "    sum = 0\n",
    "    for x in args:\n",
    "        sum += x\n",
    "    return sum"
   ]
  },
  {
   "cell_type": "code",
   "execution_count": 17,
   "id": "d9b86145",
   "metadata": {},
   "outputs": [
    {
     "name": "stdout",
     "output_type": "stream",
     "text": [
      "30\n",
      "60\n"
     ]
    }
   ],
   "source": [
    "# 呼叫函數 my_function4\n",
    "print(my_function4(10, 20))\n",
    "print(my_function4(10, 20, 30))"
   ]
  },
  {
   "cell_type": "code",
   "execution_count": 18,
   "id": "f7a5f32c",
   "metadata": {},
   "outputs": [],
   "source": [
    "# Keyword Arguments (指定參數名稱，表示參數的順序不同，但可以用參數名稱對應)\n",
    "def my_function5(child1, child2, child3):\n",
    "    result = child1 + \" \" + child2 + \" \" + child3\n",
    "    return result"
   ]
  },
  {
   "cell_type": "code",
   "execution_count": 19,
   "id": "6e7f0439",
   "metadata": {},
   "outputs": [
    {
     "name": "stdout",
     "output_type": "stream",
     "text": [
      "ABC DEF GHI\n",
      "ABC DEF GHI\n"
     ]
    }
   ],
   "source": [
    "# 呼叫函數 my_function5\n",
    "result = my_function5(child3='GHI', child2='DEF', child1='ABC') # 指定參數名稱\n",
    "print(result)\n",
    "\n",
    "result = my_function5(child2='DEF', child1='ABC', child3='GHI') # 指定參數名稱\n",
    "print(result)"
   ]
  },
  {
   "cell_type": "code",
   "execution_count": 12,
   "id": "06bdfcf1",
   "metadata": {},
   "outputs": [],
   "source": [
    "# Arbitrary Keyword Arguments, **kwargs\n",
    "# 當不知道有多少 keywords arguments 時可以使用此方法\n",
    "def my_function6(**kwargs):\n",
    "    print('kwargs type: ', type(kwargs)) # kwargs is a dictionary object\n",
    "    print(kwargs)\n",
    "    for item in kwargs:\n",
    "        print('item[{}]={}'.format(item, kwargs[item]))"
   ]
  },
  {
   "cell_type": "code",
   "execution_count": 13,
   "id": "620f3100",
   "metadata": {},
   "outputs": [
    {
     "name": "stdout",
     "output_type": "stream",
     "text": [
      "kwargs type:  <class 'dict'>\n",
      "{'A1': 'GHI', 'A2': 'DEF', 'A3': 'ABC', 'A4': 'XYZ'}\n",
      "item[A1]=GHI\n",
      "item[A2]=DEF\n",
      "item[A3]=ABC\n",
      "item[A4]=XYZ\n"
     ]
    }
   ],
   "source": [
    "my_function6(A1='GHI', A2='DEF', A3='ABC', A4='XYZ')"
   ]
  },
  {
   "cell_type": "code",
   "execution_count": 22,
   "id": "c7f0e112",
   "metadata": {},
   "outputs": [
    {
     "name": "stdout",
     "output_type": "stream",
     "text": [
      "I am from USA\n",
      "I am from Taiwan\n"
     ]
    }
   ],
   "source": [
    "# 預設參數值 (Default Parameter Value)\n",
    "# 此題預設參數值是 'Taiwan'\n",
    "def my_function7(country = \"Taiwan\"):\n",
    "    print(\"I am from \" + country)\n",
    "\n",
    "my_function7('USA')\n",
    "my_function7()"
   ]
  },
  {
   "cell_type": "code",
   "execution_count": 26,
   "id": "10006263",
   "metadata": {},
   "outputs": [],
   "source": [
    "# 遞迴函數 (Recursion)\n",
    "def tri_recursion(k):\n",
    "    if (k > 0):\n",
    "        result = k + tri_recursion(k-1)\n",
    "        print(result)\n",
    "    else:\n",
    "        result = 0\n",
    "    return result"
   ]
  },
  {
   "cell_type": "code",
   "execution_count": 27,
   "id": "322f3952",
   "metadata": {},
   "outputs": [
    {
     "name": "stdout",
     "output_type": "stream",
     "text": [
      "1\n",
      "3\n",
      "6\n",
      "10\n",
      "15\n"
     ]
    },
    {
     "data": {
      "text/plain": [
       "15"
      ]
     },
     "execution_count": 27,
     "metadata": {},
     "output_type": "execute_result"
    }
   ],
   "source": [
    "tri_recursion(5)"
   ]
  },
  {
   "cell_type": "markdown",
   "id": "60958c92",
   "metadata": {},
   "source": [
    "<hr style='border-color:brown; border-width:3px'>"
   ]
  },
  {
   "cell_type": "markdown",
   "id": "1a5bca36",
   "metadata": {},
   "source": [
    "## 九、lambda 函數\n",
    "- lambda 函數主要目的是要快速定義一個函數，不需要函數名稱。\n",
    "- lambda 函數可以有許多參數，但只有一行程式碼。\n",
    "- lambda 函數運算式的計算結果會自動傳回來，不需要使用return指令\n",
    "- Lambda函數不能夠使用指定運算子，也不可以有迴圈 <br>\n",
    "<a href='#目錄'>回目錄</a>"
   ]
  },
  {
   "cell_type": "code",
   "execution_count": 28,
   "id": "8d1ddafa",
   "metadata": {},
   "outputs": [
    {
     "name": "stdout",
     "output_type": "stream",
     "text": [
      "20\n"
     ]
    }
   ],
   "source": [
    "# 定義一個 lambda 函數，此函數會將傳遞的參數 * 2\n",
    "result = lambda x: x * 2\n",
    "print(result(10))"
   ]
  },
  {
   "cell_type": "code",
   "execution_count": 29,
   "id": "8d100b19",
   "metadata": {},
   "outputs": [
    {
     "name": "stdout",
     "output_type": "stream",
     "text": [
      "30\n"
     ]
    }
   ],
   "source": [
    "# 定義一個 lambda 函數，此函數有 2 個參數|\n",
    "result = lambda x, y: x + y\n",
    "print(result(10, 20))"
   ]
  },
  {
   "cell_type": "markdown",
   "id": "34da49f5",
   "metadata": {},
   "source": [
    "#### 如果有一個串列代表考試的分數，例如 scores = [90, 50, 80, 40, 100]，函數篩選出不及格的分數"
   ]
  },
  {
   "cell_type": "code",
   "execution_count": 33,
   "id": "a79d3ae3",
   "metadata": {},
   "outputs": [],
   "source": [
    "scores = [90, 50, 80, 40, 100]\n",
    "result = []"
   ]
  },
  {
   "cell_type": "code",
   "execution_count": 31,
   "id": "bdb0c033",
   "metadata": {},
   "outputs": [
    {
     "name": "stdout",
     "output_type": "stream",
     "text": [
      "[50, 40]\n"
     ]
    }
   ],
   "source": [
    "# 方法 1: 使用 for 迴圈，逐筆選出\n",
    "for score in scores:\n",
    "    if score < 60:\n",
    "        result.append(score)\n",
    "print(result)"
   ]
  },
  {
   "cell_type": "code",
   "execution_count": 34,
   "id": "195d4613",
   "metadata": {},
   "outputs": [
    {
     "name": "stdout",
     "output_type": "stream",
     "text": [
      "[50, 40]\n"
     ]
    }
   ],
   "source": [
    "# 方法 2: 自訂函數搭配內建 filter() 函數\n",
    "# 自訂函數 qlyScore()\n",
    "scores = [90, 50, 80, 40, 100]\n",
    "def qlyScore(x):\n",
    "    if x < 60:\n",
    "        return True\n",
    "    else:\n",
    "        return False\n",
    "    \n",
    "result = filter(qlyScore, scores)\n",
    "print(list(result))"
   ]
  },
  {
   "cell_type": "code",
   "execution_count": 35,
   "id": "f9670abd",
   "metadata": {},
   "outputs": [
    {
     "name": "stdout",
     "output_type": "stream",
     "text": [
      "[50, 40]\n"
     ]
    }
   ],
   "source": [
    "# 方法 3: 使用 lambda 函數搭配內建 filter() 函數\n",
    "f = lambda x: True if x < 60 else False\n",
    "result = filter(f, scores)\n",
    "\n",
    "# result = filter(lambda x: True if x<60 else False, scores) # 更簡便寫法\n",
    "print(list(result))"
   ]
  },
  {
   "cell_type": "code",
   "execution_count": 36,
   "id": "9c82749c",
   "metadata": {},
   "outputs": [
    {
     "data": {
      "text/plain": [
       "array([50, 40])"
      ]
     },
     "execution_count": 36,
     "metadata": {},
     "output_type": "execute_result"
    }
   ],
   "source": [
    "# 簡單數值篩選已可使用 numpy \n",
    "import numpy as np\n",
    "score = np.array(scores)\n",
    "score[score < 60]"
   ]
  },
  {
   "cell_type": "markdown",
   "id": "52857bd5",
   "metadata": {},
   "source": [
    "<hr style='border-color:brown; border-width:3px'>"
   ]
  },
  {
   "cell_type": "markdown",
   "id": "b6443250",
   "metadata": {},
   "source": [
    "## 十、例外處理(Exception Handling)\n",
    "- 當程式發生錯誤，或是呼叫 exception，Python 程式會停止執行，並且產生錯誤訊息。\n",
    "- 例外處理主要由 try 和 except 兩個主要指令，外加選擇性的 else 和 finally 指令。\n",
    "- `try` 區塊檢驗程式碼是否有錯誤的區塊。\n",
    "- `except` 區塊是處理程式碼錯誤的區塊。\n",
    "- `finally` 區塊是不論程式是否發生有錯，一定要執行的區塊。<br>\n",
    "<a href='#目錄'>回目錄</a>"
   ]
  },
  {
   "cell_type": "markdown",
   "id": "f84eca35",
   "metadata": {},
   "source": [
    "### try... except... finally 語法\n",
    "```\n",
    "try:\n",
    "    # 想要執行但可能引發錯誤的程式區塊\n",
    "except: 例外錯誤類型1 [as 參數]:     # [as 參數] 可省略 \n",
    "    # 發生例外錯誤類型1 的程式\n",
    "except: 例外錯誤類型2 [as 參數]:     # [as 參數] 可省略 :\n",
    "    # 發生例外錯誤類型2 的程式\n",
    "except Exception [as 參數]:     # [as 參數] 可省略 : \n",
    "    # 處理上面未捕捉，但其它可能發生的錯誤\n",
    "finally:\n",
    "    # 不管有無錯誤，最後都會執行\n",
    "```"
   ]
  },
  {
   "cell_type": "code",
   "execution_count": 39,
   "id": "d3df8789",
   "metadata": {},
   "outputs": [
    {
     "name": "stdout",
     "output_type": "stream",
     "text": [
      "請輸入兩個整數(空格隔開): 10 a\n",
      "輸入資料的型態錯誤!...  invalid literal for int() with base 10: 'a'\n",
      "處理完畢!\n"
     ]
    }
   ],
   "source": [
    "# try-except-finally 範例\n",
    "try:\n",
    "    a, b = input('請輸入兩個整數(空格隔開): ').split()\n",
    "    a = int(a)\n",
    "    b = int(b)\n",
    "    print('兩個整數相除結果: ', a/b)\n",
    "    \n",
    "except ZeroDivisionError as error1:\n",
    "    print(\"被除數是 0 的狀況!... \", error1)\n",
    "    \n",
    "except ValueError as error2:\n",
    "    print('輸入資料的型態錯誤!... ', error2)\n",
    "    \n",
    "except Exception as e:\n",
    "    print(e)\n",
    "finally:\n",
    "    print('處理完畢!')"
   ]
  },
  {
   "cell_type": "markdown",
   "id": "8eb92fcf",
   "metadata": {},
   "source": [
    "## 十一、檔案的處理\n",
    "<a href='#目錄'>回目錄</a>"
   ]
  },
  {
   "cell_type": "code",
   "execution_count": 1,
   "id": "2311c79d",
   "metadata": {},
   "outputs": [
    {
     "name": "stdout",
     "output_type": "stream",
     "text": [
      "日期時間, 溫度,  濕度\n",
      "\n"
     ]
    }
   ],
   "source": [
    "import random\n",
    "import time\n",
    "from datetime import datetime\n",
    "file = open('weatherTest.txt', 'a')  # 寫入及附加到 weatherTest.txt\n",
    "file.write('日期時間, 溫度, 濕度\\n')\n",
    "print('日期時間, 溫度,  濕度\\n')"
   ]
  },
  {
   "cell_type": "code",
   "execution_count": 2,
   "id": "0bfb37ee",
   "metadata": {},
   "outputs": [
    {
     "name": "stdout",
     "output_type": "stream",
     "text": [
      "2022-05-26 14:04:41,30,65\n",
      "\n",
      "2022-05-26 14:04:43,37,67\n",
      "\n",
      "2022-05-26 14:04:45,31,58\n",
      "\n",
      "2022-05-26 14:04:47,28,33\n",
      "\n",
      "2022-05-26 14:04:49,17,47\n",
      "\n"
     ]
    }
   ],
   "source": [
    "for i in range(5):\n",
    "    temperature = random.randint(10, 40) # 溫度最高 40 度，最低 10 度\n",
    "    humidity = random.randint(30, 100)   # 濕度最高 40 度，最低 10 度\n",
    "    current = datetime.now()\n",
    "    currentTime = current.strftime('%Y-%m-%d %H:%M:%S')\n",
    "    weather = currentTime + ',' + str(temperature) + ',' + str(humidity) + '\\n'\n",
    "    file.write(weather)\n",
    "    print(weather)\n",
    "    time.sleep(2)\n",
    "file.close()"
   ]
  },
  {
   "cell_type": "markdown",
   "id": "b4a0a23c",
   "metadata": {},
   "source": [
    "### 讀取寫入的資料 - 直接讀取"
   ]
  },
  {
   "cell_type": "code",
   "execution_count": 3,
   "id": "98e7f824",
   "metadata": {},
   "outputs": [
    {
     "name": "stdout",
     "output_type": "stream",
     "text": [
      "日期時間, 溫度, 濕度\n",
      "2022-05-14 10:54:32,20,91\n",
      "2022-05-14 10:54:34,14,80\n",
      "2022-05-14 10:54:36,14,30\n",
      "2022-05-14 10:54:38,25,84\n",
      "2022-05-14 10:54:40,11,38\n",
      "\n",
      "\n"
     ]
    }
   ],
   "source": [
    "file = open('weatherTest.txt', 'r', encoding='cp950')\n",
    "tmp = file.read()\n",
    "file.close()\n",
    "print(tmp)"
   ]
  },
  {
   "cell_type": "markdown",
   "id": "42c295d7",
   "metadata": {},
   "source": [
    "### 讀取寫入的資料 - Pandas"
   ]
  },
  {
   "cell_type": "code",
   "execution_count": 4,
   "id": "69cf5b00",
   "metadata": {},
   "outputs": [],
   "source": [
    "import pandas as pd"
   ]
  },
  {
   "cell_type": "code",
   "execution_count": 5,
   "id": "01995a5c",
   "metadata": {},
   "outputs": [
    {
     "data": {
      "text/html": [
       "<div>\n",
       "<style scoped>\n",
       "    .dataframe tbody tr th:only-of-type {\n",
       "        vertical-align: middle;\n",
       "    }\n",
       "\n",
       "    .dataframe tbody tr th {\n",
       "        vertical-align: top;\n",
       "    }\n",
       "\n",
       "    .dataframe thead th {\n",
       "        text-align: right;\n",
       "    }\n",
       "</style>\n",
       "<table border=\"1\" class=\"dataframe\">\n",
       "  <thead>\n",
       "    <tr style=\"text-align: right;\">\n",
       "      <th></th>\n",
       "      <th>日期時間</th>\n",
       "      <th>溫度</th>\n",
       "      <th>濕度</th>\n",
       "    </tr>\n",
       "  </thead>\n",
       "  <tbody>\n",
       "    <tr>\n",
       "      <th>0</th>\n",
       "      <td>2022-05-14 10:54:32</td>\n",
       "      <td>20</td>\n",
       "      <td>91</td>\n",
       "    </tr>\n",
       "    <tr>\n",
       "      <th>1</th>\n",
       "      <td>2022-05-14 10:54:34</td>\n",
       "      <td>14</td>\n",
       "      <td>80</td>\n",
       "    </tr>\n",
       "    <tr>\n",
       "      <th>2</th>\n",
       "      <td>2022-05-14 10:54:36</td>\n",
       "      <td>14</td>\n",
       "      <td>30</td>\n",
       "    </tr>\n",
       "    <tr>\n",
       "      <th>3</th>\n",
       "      <td>2022-05-14 10:54:38</td>\n",
       "      <td>25</td>\n",
       "      <td>84</td>\n",
       "    </tr>\n",
       "    <tr>\n",
       "      <th>4</th>\n",
       "      <td>2022-05-14 10:54:40</td>\n",
       "      <td>11</td>\n",
       "      <td>38</td>\n",
       "    </tr>\n",
       "  </tbody>\n",
       "</table>\n",
       "</div>"
      ],
      "text/plain": [
       "                  日期時間   溫度   濕度\n",
       "0  2022-05-14 10:54:32   20   91\n",
       "1  2022-05-14 10:54:34   14   80\n",
       "2  2022-05-14 10:54:36   14   30\n",
       "3  2022-05-14 10:54:38   25   84\n",
       "4  2022-05-14 10:54:40   11   38"
      ]
     },
     "execution_count": 5,
     "metadata": {},
     "output_type": "execute_result"
    }
   ],
   "source": [
    "tmp = pd.read_csv('weatherTest.txt', encoding='cp950')\n",
    "tmp"
   ]
  },
  {
   "cell_type": "markdown",
   "id": "158b0fd0",
   "metadata": {},
   "source": [
    "<hr style='border-color:brown; border-width:3px'>"
   ]
  },
  {
   "cell_type": "markdown",
   "id": "dbad51e3",
   "metadata": {},
   "source": [
    "## 十二、執行緒(Thread)\n",
    "<a href='#目錄'>回目錄</a>"
   ]
  },
  {
   "cell_type": "code",
   "execution_count": 12,
   "id": "9783b3c5",
   "metadata": {},
   "outputs": [
    {
     "name": "stdout",
     "output_type": "stream",
     "text": [
      "Child thread: 0Main thread: 0\n",
      "\n",
      "Child thread:Main thread: 1\n",
      " 1\n",
      "Child thread:Main thread: 2 2\n",
      "\n",
      "Child thread: 3\n",
      "Main thread: 3\n",
      "Child thread:Main thread: 4 4\n",
      "\n",
      "Done.\n"
     ]
    }
   ],
   "source": [
    "import threading\n",
    "import time\n",
    "\n",
    "# 子執行緒的工作函數\n",
    "def job():\n",
    "  for i in range(5):\n",
    "    print(\"Child thread:\", i)\n",
    "    time.sleep(1)\n",
    "\n",
    "# 建立一個子執行緒\n",
    "t = threading.Thread(target = job)\n",
    "\n",
    "# 執行該子執行緒\n",
    "t.start()\n",
    "\n",
    "# 主執行緒繼續執行自己的工作\n",
    "for i in range(5):\n",
    "  print(\"Main thread:\", i)\n",
    "  time.sleep(1)\n",
    "\n",
    "# 等待 t 這個子執行緒結束\n",
    "t.join()\n",
    "\n",
    "print(\"Done.\")"
   ]
  },
  {
   "cell_type": "code",
   "execution_count": null,
   "id": "ed1ab664",
   "metadata": {},
   "outputs": [],
   "source": []
  }
 ],
 "metadata": {
  "kernelspec": {
   "display_name": "Python 3",
   "language": "python",
   "name": "python3"
  },
  "language_info": {
   "codemirror_mode": {
    "name": "ipython",
    "version": 3
   },
   "file_extension": ".py",
   "mimetype": "text/x-python",
   "name": "python",
   "nbconvert_exporter": "python",
   "pygments_lexer": "ipython3",
   "version": "3.8.10"
  }
 },
 "nbformat": 4,
 "nbformat_minor": 5
}
