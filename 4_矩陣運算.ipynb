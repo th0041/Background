{
 "cells": [
  {
   "cell_type": "markdown",
   "id": "7476a90d",
   "metadata": {},
   "source": [
    "# AI 教材補充單元 - 矩陣運算介紹\n",
    "- 2022 機器學習 Summer Session 教材 (師培中心)\n",
    "- @ 台南應用科技大學 資管系 杜主民"
   ]
  },
  {
   "cell_type": "markdown",
   "id": "d8945970",
   "metadata": {},
   "source": [
    "## 一、單一個神經元 (Neuron)，有三個輸入神經元 X (input)  和權重 W (Weighting)"
   ]
  },
  {
   "cell_type": "markdown",
   "id": "abc30b52",
   "metadata": {},
   "source": [
    "### 在尚未考量使用激勵函數(Activity Function)前提下，改寫上述方程式組為矩陣線性方程式:\n",
    "$WX + B = S$"
   ]
  },
  {
   "cell_type": "markdown",
   "id": "7a524772",
   "metadata": {},
   "source": [
    "$W = \\begin{bmatrix}\n",
    "w_1 & w_2 & w_3 \\end{bmatrix} \\; ,$\n",
    "$X = \\begin{bmatrix}\n",
    "x_1 \\\\\n",
    "x_2 \\\\\n",
    "x_3 \\end{bmatrix} \\; ,$\n",
    "$B = \\begin{bmatrix}\n",
    "b \\end{bmatrix} \\; ,$\n",
    "$S = \\begin{bmatrix}\n",
    "s \\end{bmatrix}$"
   ]
  },
  {
   "cell_type": "markdown",
   "id": "03fa626a",
   "metadata": {},
   "source": [
    "$\\Rightarrow$\n",
    "$\\begin{bmatrix}\n",
    "w_1 & w_2 &w_3 \\end{bmatrix} $\n",
    "$\\begin{bmatrix}\n",
    "x_1 \\\\\n",
    "x_2 \\\\\n",
    "x_3 \\end{bmatrix}  + $\n",
    "$\\begin{bmatrix}\n",
    "b \\end{bmatrix} = $\n",
    "$\\begin{bmatrix}\n",
    "s \\end{bmatrix}$\n",
    "\n",
    "$\\Rightarrow$ \n",
    "$w_1x_1 + w_2x_2 + w_3x_3 + b = s$"
   ]
  },
  {
   "cell_type": "code",
   "execution_count": 2,
   "id": "7430a954",
   "metadata": {},
   "outputs": [],
   "source": [
    "# 練習題: 單一個神經元 (Neuron)，有三個輸入神經元 X (input) 和權重 W (Weighting)\n",
    "import numpy as np"
   ]
  },
  {
   "cell_type": "code",
   "execution_count": 3,
   "id": "5384c7af",
   "metadata": {},
   "outputs": [],
   "source": [
    "# 建立 1 個 weighting 矩陣\n",
    "W = np.matrix(np.random.rand(1, 3))        # (1 x 3) 矩陣\n",
    "\n",
    "# 建立 1 個 X 輸入神經元矩陣 (3 x 1)\n",
    "X = np.matrix(np.random.randint(1, 11, 3)) # (1 x 3) 矩陣\n",
    "X = X.T                                    # 轉換為 (3 x 1) 矩陣\n",
    "\n",
    "# 建立 1 個 B Bias 矩陣 (1 x 1)\n",
    "B = np.matrix('1.5')"
   ]
  },
  {
   "cell_type": "code",
   "execution_count": 4,
   "id": "4d3fda0c",
   "metadata": {},
   "outputs": [
    {
     "name": "stdout",
     "output_type": "stream",
     "text": [
      "W 權重型態:  <class 'numpy.matrix'>\n",
      "X 輸入神經元型態:  <class 'numpy.matrix'>\n"
     ]
    }
   ],
   "source": [
    "print('W 權重型態: ', type(W))\n",
    "print('X 輸入神經元型態: ', type(X))"
   ]
  },
  {
   "cell_type": "code",
   "execution_count": 6,
   "id": "a6041f12",
   "metadata": {},
   "outputs": [
    {
     "name": "stdout",
     "output_type": "stream",
     "text": [
      "W(權重)= (1, 3)\n",
      "X(神經元)= (3, 1)\n",
      "B(Bias) = (1, 1)\n"
     ]
    }
   ],
   "source": [
    "print(f'W(權重)= {W.shape}')\n",
    "print(f'X(神經元)= {X.shape}')\n",
    "print(f'B(Bias) = {B.shape}')"
   ]
  },
  {
   "cell_type": "markdown",
   "id": "375087a3",
   "metadata": {},
   "source": [
    "### WX + B = S\n",
    "- W 維度 (1 x 3)\n",
    "- X 維度 (3 x 1)\n",
    "- B 維度 (1, 1)\n",
    "- S 維度 (1, 1)"
   ]
  },
  {
   "cell_type": "code",
   "execution_count": 10,
   "id": "e78205fe",
   "metadata": {},
   "outputs": [
    {
     "name": "stdout",
     "output_type": "stream",
     "text": [
      "W: [[0.95765284 0.27342092 0.11466286]]\n",
      "X:\n",
      " [[6]\n",
      " [9]\n",
      " [7]]\n",
      "B: [[1.5]]\n"
     ]
    }
   ],
   "source": [
    "print(f'W: {W}')\n",
    "print(f'X:\\n {X}')\n",
    "print(f'B: {B}')"
   ]
  },
  {
   "cell_type": "code",
   "execution_count": 7,
   "id": "ee7b6ed1",
   "metadata": {},
   "outputs": [
    {
     "name": "stdout",
     "output_type": "stream",
     "text": [
      "S =  [[9.95405741]]\n"
     ]
    }
   ],
   "source": [
    "S = W * X + B\n",
    "print('S = ', S)"
   ]
  },
  {
   "cell_type": "markdown",
   "id": "d2081303",
   "metadata": {},
   "source": [
    "## 二、兩個神經元 (Neuron)，有三個輸入神經元 X (input) 和權重 W (Weighting)"
   ]
  },
  {
   "cell_type": "markdown",
   "id": "2daf0e81",
   "metadata": {},
   "source": [
    "### 在尚未考量使用激活函數(Activity Function)前提下，改寫上述方程式組為矩陣線性方程式:\n",
    "$WX + B = S$"
   ]
  },
  {
   "cell_type": "markdown",
   "id": "c6456f1a",
   "metadata": {},
   "source": [
    "$W = \\begin{bmatrix}\n",
    "w_{11} & w_{12} & w_{13} \\\\\n",
    "w_{21} & w_{22} & w_{23}\n",
    "\\end{bmatrix} \\; ,$\n",
    "$X = \\begin{bmatrix}\n",
    "x_1 \\\\\n",
    "x_2 \\\\\n",
    "x_3 \n",
    "\\end{bmatrix} \\; ,$\n",
    "$B = \\begin{bmatrix}\n",
    "b_1 \\\\\n",
    "b_2\n",
    "\\end{bmatrix} \\; ,$\n",
    "$S =\\begin{bmatrix}\n",
    "s_1 \\\\\n",
    "s_2\n",
    "\\end{bmatrix}$"
   ]
  },
  {
   "cell_type": "markdown",
   "id": "6bb79184",
   "metadata": {},
   "source": [
    "$\\Rightarrow$\n",
    "$\\begin{bmatrix}\n",
    "w_{11} & w_{12} & w_{13} \\\\\n",
    "w_{21} & w_{22} & w_{23}\n",
    "\\end{bmatrix}$\n",
    "$\\begin{bmatrix}\n",
    "x_1 \\\\\n",
    "x_2 \\\\\n",
    "x_3 \n",
    "\\end{bmatrix} + $\n",
    "$\\begin{bmatrix}\n",
    "b_1 \\\\\n",
    "b_2\n",
    "\\end{bmatrix} = $\n",
    "$\\begin{bmatrix}\n",
    "s_1 \\\\\n",
    "s_2\n",
    "\\end{bmatrix}$\n",
    "$\\Rightarrow$\n",
    "\n",
    "$w_{11}x_1 + w_{12}x_2 + w_{13}x_3 + b_1 = s_1$ <p>\n",
    "$w_{21}x_1 + w_{22}x_2 + w_{23}x_3 + b_2 = s_2$ <p>"
   ]
  },
  {
   "cell_type": "code",
   "execution_count": 11,
   "id": "b0ef24c9",
   "metadata": {},
   "outputs": [],
   "source": [
    "# 二個神經元 (Neuron)，有三個輸入神經元 X (input) 和權重 W (Weighting)\n",
    "import numpy as np"
   ]
  },
  {
   "cell_type": "code",
   "execution_count": 12,
   "id": "175962f3",
   "metadata": {},
   "outputs": [],
   "source": [
    "# 建立 1 個 weighting 矩陣\n",
    "W = np.matrix(np.random.rand(2, 3))        # (2 x 3) 矩陣\n",
    "\n",
    "# 建立 1 個 X 輸入神經元矩陣矩陣 (3 x 1)\n",
    "X = np.matrix(np.random.randint(1, 11, 3)) # (1 x 3 ) 矩陣\n",
    "X = X.T                                    # 轉換為 (3 x 1) 矩陣\n",
    "\n",
    "# 建立 1 個 B Bias矩陣 (2 x 1)\n",
    "B = np.matrix('1.5; 2.1')"
   ]
  },
  {
   "cell_type": "code",
   "execution_count": 13,
   "id": "de42e66e",
   "metadata": {},
   "outputs": [
    {
     "name": "stdout",
     "output_type": "stream",
     "text": [
      "W(權重) = \n",
      " (2, 3)\n",
      "X(神經元) = \n",
      " (3, 1)\n",
      "B(Bias) = \n",
      " [[1.5]\n",
      " [2.1]]\n"
     ]
    }
   ],
   "source": [
    "print('W(權重) = \\n', W.shape)\n",
    "print('X(神經元) = \\n', X.shape)\n",
    "print('B(Bias) = \\n', B)"
   ]
  },
  {
   "cell_type": "markdown",
   "id": "3a7266cf",
   "metadata": {},
   "source": [
    "### WX + B = S\n",
    "- W 維度 (2 x 3)\n",
    "- X 維度 (3 x 1)\n",
    "- B 維度 (2, 1)\n",
    "- S 維度 (2, 1)"
   ]
  },
  {
   "cell_type": "code",
   "execution_count": 15,
   "id": "37f8a551",
   "metadata": {},
   "outputs": [
    {
     "name": "stdout",
     "output_type": "stream",
     "text": [
      "W:\n",
      " [[0.90368401 0.96455174 0.52995099]\n",
      " [0.35731436 0.25832049 0.71797357]]\n",
      "X:\n",
      " [[ 7]\n",
      " [ 2]\n",
      " [10]]\n",
      "B: [[1.5]\n",
      " [2.1]]\n"
     ]
    }
   ],
   "source": [
    "print(f'W:\\n {W}')\n",
    "print(f'X:\\n {X}')\n",
    "print(f'B: {B}')"
   ]
  },
  {
   "cell_type": "code",
   "execution_count": 16,
   "id": "04279730",
   "metadata": {},
   "outputs": [
    {
     "name": "stdout",
     "output_type": "stream",
     "text": [
      "S = \n",
      " [[15.05440143]\n",
      " [12.29757717]]\n"
     ]
    }
   ],
   "source": [
    "S = W * X + B\n",
    "print('S = \\n', S)"
   ]
  },
  {
   "cell_type": "markdown",
   "id": "101e2e50",
   "metadata": {},
   "source": [
    "## 三、m 個神經元 (Neuron)，有 n 個輸入神經元 X (input) 和權重 W (Weighting)"
   ]
  },
  {
   "cell_type": "markdown",
   "id": "e3926857",
   "metadata": {},
   "source": [
    "### 在尚未考量使用激勵函數(Activity Function)前提下，\n",
    "### 將上述方程式組改寫成矩陣的線性方程式寫法:\n",
    "$WX + B = S$"
   ]
  },
  {
   "cell_type": "markdown",
   "id": "8b35eba5",
   "metadata": {},
   "source": [
    "$ W = $\n",
    "$\\begin{bmatrix}\n",
    "w_{11} & w_{12} & \\cdots & w_{1n} \\\\\n",
    "w_{21} & w_{22} & \\cdots & w_{2n} \\\\\n",
    "\\; \\ddots \\\\\n",
    "w_{m1} & w_{m2} & \\cdots & w_{mn} \n",
    "\\end{bmatrix}$\n",
    "$ \\; \\;X = $\n",
    "$\\begin{bmatrix}\n",
    "x_1 \\\\\n",
    "x_2 \\\\\n",
    "\\vdots \\\\\n",
    "x_n\n",
    "\\end{bmatrix}$\n",
    "$ \\; \\; B = $\n",
    "$\\begin{bmatrix}\n",
    "b_1 \\\\\n",
    "b_2 \\\\\n",
    "\\vdots \\\\\n",
    "b_m\n",
    "\\end{bmatrix}$\n",
    "$ \\; \\; S = $\n",
    "$\\begin{bmatrix}\n",
    "s_1 \\\\\n",
    "s_2 \\\\\n",
    "\\vdots \\\\\n",
    "s_m\n",
    "\\end{bmatrix}$"
   ]
  },
  {
   "cell_type": "markdown",
   "id": "6fa5d439",
   "metadata": {},
   "source": [
    "$\\Rightarrow$\n",
    "$\\begin{bmatrix}\n",
    "w_{11} & w_{12} & \\cdots & w_{1n} \\\\\n",
    "w_{21} & w_{22} & \\cdots & w_{2n} \\\\\n",
    "\\; \\ddots \\\\\n",
    "w_{m1} & w_{m2} & \\cdots & w_{mn} \n",
    "\\end{bmatrix}$\n",
    "$\\begin{bmatrix}\n",
    "x_1 \\\\\n",
    "x_2 \\\\\n",
    "\\vdots \\\\\n",
    "x_n\n",
    "\\end{bmatrix} + $\n",
    "$\\begin{bmatrix}\n",
    "b_1 \\\\\n",
    "b_2 \\\\\n",
    "\\vdots \\\\\n",
    "b_m\n",
    "\\end{bmatrix} = $\n",
    "$\\begin{bmatrix}\n",
    "s_1 \\\\\n",
    "s_2 \\\\\n",
    "\\vdots \\\\\n",
    "s_m\n",
    "\\end{bmatrix}$\n",
    "\n",
    "$\\Rightarrow$\n",
    "\n",
    "$w_{11}x_1 + w_{12}x_2 + \\cdots + w_{1n}x_n + b_1 = s_1$ <p>\n",
    "$w_{21}x_1 + w_{22}x_2 + \\cdots + w_{2n}x_n + b_2 = s_2$ <p>\n",
    "$\\; \\ddots$ <p>\n",
    "$w_{m1}x_1 + w_{m2}x_2 + \\cdots + w_{mn}x_n + b_m = s_m$ <p>"
   ]
  },
  {
   "cell_type": "code",
   "execution_count": 17,
   "id": "7717daf4",
   "metadata": {},
   "outputs": [],
   "source": [
    "# 練習題: m 個 Neuron，n 個輸入 x 和權重 (Weighting) w\n",
    "# 假設有 10 個 Neuron，100 個輸入 x \n",
    "import numpy as np"
   ]
  },
  {
   "cell_type": "code",
   "execution_count": 18,
   "id": "c9b7f498",
   "metadata": {},
   "outputs": [],
   "source": [
    "# 建立 1 個 weighting 矩陣 (10, 100)\n",
    "W = np.matrix(np.random.rand(10, 100))         # (10 x 100) 矩陣\n",
    "\n",
    "# 建立 1 個 X 輸入神經元矩陣矩陣  (100 x 1)\n",
    "X = np.matrix(np.random.randint(-10, 10, 100)) # (1 x 100 ) 矩陣\n",
    "X = X.T                                        # 轉換為 (100 x 1) 矩陣\n",
    "\n",
    "# 建立 1 個 B Bias 矩陣 (10 x 1)\n",
    "# 在 1-20  間隨機取 10 個整數當成 bias 矩陣，預設是 (1 x 10)\n",
    "B = np.matrix(np.random.randint(1, 21, 10)) \n",
    "B = B.T                                        # 轉換為 (10 x 1) 矩陣"
   ]
  },
  {
   "cell_type": "code",
   "execution_count": 22,
   "id": "e4afd033",
   "metadata": {},
   "outputs": [
    {
     "name": "stdout",
     "output_type": "stream",
     "text": [
      "W(權重) = \n",
      " (10, 100)\n",
      "X(神經元) = \n",
      " (100, 1)\n",
      "B(Bias) = \n",
      " (10, 1)\n"
     ]
    }
   ],
   "source": [
    "print('W(權重) = \\n', W.shape)\n",
    "print('X(神經元) = \\n', X.shape)\n",
    "print('B(Bias) = \\n', B.shape)"
   ]
  },
  {
   "cell_type": "markdown",
   "id": "78a9f0b3",
   "metadata": {},
   "source": [
    "### WX + B = S\n",
    "- W 維度 (m x n)\n",
    "- X 維度 (n x 1)\n",
    "- B 維度 (m, 1)\n",
    "- S 維度 (m, 1)"
   ]
  },
  {
   "cell_type": "code",
   "execution_count": null,
   "id": "d37e7753",
   "metadata": {},
   "outputs": [],
   "source": [
    "print(f'W:\\n {W}')\n",
    "print(f'X:\\n {X}')\n",
    "print(f'B: {B}')"
   ]
  },
  {
   "cell_type": "code",
   "execution_count": 20,
   "id": "f0bfd8d3",
   "metadata": {},
   "outputs": [
    {
     "name": "stdout",
     "output_type": "stream",
     "text": [
      "S =\n",
      " [[15.78310694]\n",
      " [-1.81328526]\n",
      " [51.12892224]\n",
      " [36.01678674]\n",
      " [ 2.46798174]\n",
      " [34.92068064]\n",
      " [19.78249941]\n",
      " [ 5.50576299]\n",
      " [14.67629109]\n",
      " [39.27265126]]\n"
     ]
    }
   ],
   "source": [
    "S = W * X + B\n",
    "print('S =\\n', S)"
   ]
  },
  {
   "cell_type": "code",
   "execution_count": null,
   "id": "98143be6",
   "metadata": {},
   "outputs": [],
   "source": []
  }
 ],
 "metadata": {
  "kernelspec": {
   "display_name": "Python 3",
   "language": "python",
   "name": "python3"
  },
  "language_info": {
   "codemirror_mode": {
    "name": "ipython",
    "version": 3
   },
   "file_extension": ".py",
   "mimetype": "text/x-python",
   "name": "python",
   "nbconvert_exporter": "python",
   "pygments_lexer": "ipython3",
   "version": "3.8.10"
  }
 },
 "nbformat": 4,
 "nbformat_minor": 5
}
